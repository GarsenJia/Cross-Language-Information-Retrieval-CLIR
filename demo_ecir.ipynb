{
 "cells": [
  {
   "cell_type": "markdown",
   "metadata": {
    "id": "view-in-github",
    "colab_type": "text"
   },
   "source": [
    "<a href=\"https://colab.research.google.com/github/GarsenJia/Cross-Language-Information-Retrieval-CLIR/blob/master/demo_ecir.ipynb\" target=\"_parent\"><img src=\"https://colab.research.google.com/assets/colab-badge.svg\" alt=\"Open In Colab\"/></a>"
   ],
   "id": "a31641ea769a2a5c"
  },
  {
   "cell_type": "markdown",
   "id": "8474926e",
   "metadata": {
    "id": "8474926e"
   },
   "source": [
    "# Demo for Patapsco"
   ]
  },
  {
   "cell_type": "markdown",
   "id": "0b1624ef",
   "metadata": {
    "id": "0b1624ef"
   },
   "source": [
    "Welcome to the demo notebook for patapsco!\n",
    "\n",
    "In this notebook, we will walk you through several commonly used CLIR retrieval models using patpasco."
   ]
  },
  {
   "cell_type": "markdown",
   "id": "2a9cebfa",
   "metadata": {
    "id": "2a9cebfa"
   },
   "source": [
    "## Getting Started"
   ]
  },
  {
   "cell_type": "markdown",
   "id": "6e463d1d",
   "metadata": {
    "id": "6e463d1d"
   },
   "source": [
    "First, we need to install the packages. We use pyTerrier here as an example for how we can integrate other monolingual retreival framework into patapsco."
   ]
  },
  {
   "cell_type": "code",
   "execution_count": 1,
   "id": "780a5b38",
   "metadata": {
    "id": "780a5b38",
    "ExecuteTime": {
     "end_time": "2024-03-07T00:15:05.718717Z",
     "start_time": "2024-03-07T00:14:38.316987Z"
    }
   },
   "outputs": [
    {
     "name": "stdout",
     "output_type": "stream",
     "text": [
      "/bin/bash: warning: setlocale: LC_ALL: cannot change locale (en_US.UTF-8)\r\n",
      "Defaulting to user installation because normal site-packages is not writeable\r\n",
      "Requirement already satisfied: stanza in /home/shengyi/.local/lib/python3.10/site-packages (1.8.1)\r\n",
      "Requirement already satisfied: emoji in /home/shengyi/.local/lib/python3.10/site-packages (from stanza) (2.10.1)\r\n",
      "Requirement already satisfied: numpy in /home/shengyi/.local/lib/python3.10/site-packages (from stanza) (1.26.0)\r\n",
      "Requirement already satisfied: protobuf>=3.15.0 in /home/shengyi/.local/lib/python3.10/site-packages (from stanza) (4.24.4)\r\n",
      "Requirement already satisfied: requests in /home/shengyi/.local/lib/python3.10/site-packages (from stanza) (2.31.0)\r\n",
      "Requirement already satisfied: networkx in /home/shengyi/.local/lib/python3.10/site-packages (from stanza) (3.1)\r\n",
      "Requirement already satisfied: toml in /home/shengyi/.local/lib/python3.10/site-packages (from stanza) (0.10.2)\r\n",
      "Requirement already satisfied: torch>=1.3.0 in /home/shengyi/.local/lib/python3.10/site-packages (from stanza) (2.1.0)\r\n",
      "Requirement already satisfied: tqdm in /home/shengyi/.local/lib/python3.10/site-packages (from stanza) (4.66.1)\r\n",
      "Requirement already satisfied: filelock in /home/shengyi/.local/lib/python3.10/site-packages (from torch>=1.3.0->stanza) (3.12.4)\r\n",
      "Requirement already satisfied: typing-extensions in /home/shengyi/.local/lib/python3.10/site-packages (from torch>=1.3.0->stanza) (4.8.0)\r\n",
      "Requirement already satisfied: sympy in /home/shengyi/.local/lib/python3.10/site-packages (from torch>=1.3.0->stanza) (1.12)\r\n",
      "Requirement already satisfied: jinja2 in /home/shengyi/.local/lib/python3.10/site-packages (from torch>=1.3.0->stanza) (3.1.2)\r\n",
      "Requirement already satisfied: fsspec in /home/shengyi/.local/lib/python3.10/site-packages (from torch>=1.3.0->stanza) (2023.9.2)\r\n",
      "Requirement already satisfied: nvidia-cuda-nvrtc-cu12==12.1.105 in /home/shengyi/.local/lib/python3.10/site-packages (from torch>=1.3.0->stanza) (12.1.105)\r\n",
      "Requirement already satisfied: nvidia-cuda-runtime-cu12==12.1.105 in /home/shengyi/.local/lib/python3.10/site-packages (from torch>=1.3.0->stanza) (12.1.105)\r\n",
      "Requirement already satisfied: nvidia-cuda-cupti-cu12==12.1.105 in /home/shengyi/.local/lib/python3.10/site-packages (from torch>=1.3.0->stanza) (12.1.105)\r\n",
      "Requirement already satisfied: nvidia-cudnn-cu12==8.9.2.26 in /home/shengyi/.local/lib/python3.10/site-packages (from torch>=1.3.0->stanza) (8.9.2.26)\r\n",
      "Requirement already satisfied: nvidia-cublas-cu12==12.1.3.1 in /home/shengyi/.local/lib/python3.10/site-packages (from torch>=1.3.0->stanza) (12.1.3.1)\r\n",
      "Requirement already satisfied: nvidia-cufft-cu12==11.0.2.54 in /home/shengyi/.local/lib/python3.10/site-packages (from torch>=1.3.0->stanza) (11.0.2.54)\r\n",
      "Requirement already satisfied: nvidia-curand-cu12==10.3.2.106 in /home/shengyi/.local/lib/python3.10/site-packages (from torch>=1.3.0->stanza) (10.3.2.106)\r\n",
      "Requirement already satisfied: nvidia-cusolver-cu12==11.4.5.107 in /home/shengyi/.local/lib/python3.10/site-packages (from torch>=1.3.0->stanza) (11.4.5.107)\r\n",
      "Requirement already satisfied: nvidia-cusparse-cu12==12.1.0.106 in /home/shengyi/.local/lib/python3.10/site-packages (from torch>=1.3.0->stanza) (12.1.0.106)\r\n",
      "Requirement already satisfied: nvidia-nccl-cu12==2.18.1 in /home/shengyi/.local/lib/python3.10/site-packages (from torch>=1.3.0->stanza) (2.18.1)\r\n",
      "Requirement already satisfied: nvidia-nvtx-cu12==12.1.105 in /home/shengyi/.local/lib/python3.10/site-packages (from torch>=1.3.0->stanza) (12.1.105)\r\n",
      "Requirement already satisfied: triton==2.1.0 in /home/shengyi/.local/lib/python3.10/site-packages (from torch>=1.3.0->stanza) (2.1.0)\r\n",
      "Requirement already satisfied: nvidia-nvjitlink-cu12 in /home/shengyi/.local/lib/python3.10/site-packages (from nvidia-cusolver-cu12==11.4.5.107->torch>=1.3.0->stanza) (12.2.140)\r\n",
      "Requirement already satisfied: charset-normalizer<4,>=2 in /home/shengyi/.local/lib/python3.10/site-packages (from requests->stanza) (3.3.0)\r\n",
      "Requirement already satisfied: idna<4,>=2.5 in /home/shengyi/.local/lib/python3.10/site-packages (from requests->stanza) (3.4)\r\n",
      "Requirement already satisfied: urllib3<3,>=1.21.1 in /home/shengyi/.local/lib/python3.10/site-packages (from requests->stanza) (2.0.6)\r\n",
      "Requirement already satisfied: certifi>=2017.4.17 in /home/shengyi/.local/lib/python3.10/site-packages (from requests->stanza) (2023.7.22)\r\n",
      "Requirement already satisfied: MarkupSafe>=2.0 in /home/shengyi/.local/lib/python3.10/site-packages (from jinja2->torch>=1.3.0->stanza) (2.1.3)\r\n",
      "Requirement already satisfied: mpmath>=0.19 in /home/shengyi/.local/lib/python3.10/site-packages (from sympy->torch>=1.3.0->stanza) (1.3.0)\r\n",
      "\u001B[33mDEPRECATION: pytorch-lightning 1.7.7 has a non-standard dependency specifier torch>=1.9.*. pip 23.3 will enforce this behaviour change. A possible replacement is to upgrade to a newer version of pytorch-lightning or contact the author to suggest that they release a version with a conforming dependency specifiers. Discussion can be found at https://github.com/pypa/pip/issues/12063\u001B[0m\u001B[33m\r\n",
      "\u001B[0m\r\n",
      "\u001B[1m[\u001B[0m\u001B[34;49mnotice\u001B[0m\u001B[1;39;49m]\u001B[0m\u001B[39;49m A new release of pip is available: \u001B[0m\u001B[31;49m23.2.1\u001B[0m\u001B[39;49m -> \u001B[0m\u001B[32;49m24.0\u001B[0m\r\n",
      "\u001B[1m[\u001B[0m\u001B[34;49mnotice\u001B[0m\u001B[1;39;49m]\u001B[0m\u001B[39;49m To update, run: \u001B[0m\u001B[32;49mpython3.10 -m pip install --upgrade pip\u001B[0m\r\n",
      "/bin/bash: warning: setlocale: LC_ALL: cannot change locale (en_US.UTF-8)\r\n",
      "Defaulting to user installation because normal site-packages is not writeable\r\n",
      "Requirement already satisfied: python-terrier in /home/shengyi/.local/lib/python3.10/site-packages (0.10.0)\r\n",
      "Requirement already satisfied: numpy in /home/shengyi/.local/lib/python3.10/site-packages (from python-terrier) (1.26.0)\r\n",
      "Requirement already satisfied: pandas in /home/shengyi/.local/lib/python3.10/site-packages (from python-terrier) (2.1.1)\r\n",
      "Requirement already satisfied: wget in /home/shengyi/.local/lib/python3.10/site-packages (from python-terrier) (3.2)\r\n",
      "Requirement already satisfied: tqdm in /home/shengyi/.local/lib/python3.10/site-packages (from python-terrier) (4.66.1)\r\n",
      "Requirement already satisfied: pyjnius>=1.4.2 in /home/shengyi/.local/lib/python3.10/site-packages (from python-terrier) (1.6.1)\r\n",
      "Requirement already satisfied: matchpy in /home/shengyi/.local/lib/python3.10/site-packages (from python-terrier) (0.5.5)\r\n",
      "Requirement already satisfied: scikit-learn in /home/shengyi/.local/lib/python3.10/site-packages (from python-terrier) (1.3.1)\r\n",
      "Requirement already satisfied: deprecated in /home/shengyi/.local/lib/python3.10/site-packages (from python-terrier) (1.2.14)\r\n",
      "Requirement already satisfied: chest in /home/shengyi/.local/lib/python3.10/site-packages (from python-terrier) (0.2.3)\r\n",
      "Requirement already satisfied: scipy in /home/shengyi/.local/lib/python3.10/site-packages (from python-terrier) (1.11.3)\r\n",
      "Requirement already satisfied: requests in /home/shengyi/.local/lib/python3.10/site-packages (from python-terrier) (2.31.0)\r\n",
      "Requirement already satisfied: joblib in /home/shengyi/.local/lib/python3.10/site-packages (from python-terrier) (1.3.2)\r\n",
      "Requirement already satisfied: nptyping==1.4.4 in /home/shengyi/.local/lib/python3.10/site-packages (from python-terrier) (1.4.4)\r\n",
      "Requirement already satisfied: more-itertools in /usr/lib/python3/dist-packages (from python-terrier) (8.10.0)\r\n",
      "Requirement already satisfied: ir-datasets>=0.3.2 in /home/shengyi/.local/lib/python3.10/site-packages (from python-terrier) (0.5.6)\r\n",
      "Requirement already satisfied: jinja2 in /home/shengyi/.local/lib/python3.10/site-packages (from python-terrier) (3.1.2)\r\n",
      "Requirement already satisfied: statsmodels in /home/shengyi/.local/lib/python3.10/site-packages (from python-terrier) (0.14.1)\r\n",
      "Requirement already satisfied: ir-measures>=0.3.1 in /home/shengyi/.local/lib/python3.10/site-packages (from python-terrier) (0.3.3)\r\n",
      "Requirement already satisfied: dill in /home/shengyi/.local/lib/python3.10/site-packages (from python-terrier) (0.3.7)\r\n",
      "Collecting pytrec-eval-terrier>=0.5.3 (from python-terrier)\r\n",
      "  Obtaining dependency information for pytrec-eval-terrier>=0.5.3 from https://files.pythonhosted.org/packages/de/72/b7a1d3d2c1dc6e36f53be9849d24da1cdb384d6ef25be31ca3a712b27239/pytrec_eval_terrier-0.5.6-cp310-cp310-manylinux_2_17_x86_64.manylinux2014_x86_64.whl.metadata\r\n",
      "  Using cached pytrec_eval_terrier-0.5.6-cp310-cp310-manylinux_2_17_x86_64.manylinux2014_x86_64.whl.metadata (777 bytes)\r\n",
      "Requirement already satisfied: typish>=1.7.0 in /home/shengyi/.local/lib/python3.10/site-packages (from nptyping==1.4.4->python-terrier) (1.9.3)\r\n",
      "Requirement already satisfied: beautifulsoup4>=4.4.1 in /home/shengyi/.local/lib/python3.10/site-packages (from ir-datasets>=0.3.2->python-terrier) (4.12.2)\r\n",
      "Requirement already satisfied: inscriptis>=2.2.0 in /home/shengyi/.local/lib/python3.10/site-packages (from ir-datasets>=0.3.2->python-terrier) (2.5.0)\r\n",
      "Requirement already satisfied: lxml>=4.5.2 in /home/shengyi/.local/lib/python3.10/site-packages (from ir-datasets>=0.3.2->python-terrier) (5.1.0)\r\n",
      "Requirement already satisfied: pyyaml>=5.3.1 in /usr/lib/python3/dist-packages (from ir-datasets>=0.3.2->python-terrier) (5.4.1)\r\n",
      "Requirement already satisfied: trec-car-tools>=2.5.4 in /home/shengyi/.local/lib/python3.10/site-packages (from ir-datasets>=0.3.2->python-terrier) (2.6)\r\n",
      "Requirement already satisfied: lz4>=3.1.10 in /home/shengyi/.local/lib/python3.10/site-packages (from ir-datasets>=0.3.2->python-terrier) (4.3.3)\r\n",
      "Requirement already satisfied: warc3-wet>=0.2.3 in /home/shengyi/.local/lib/python3.10/site-packages (from ir-datasets>=0.3.2->python-terrier) (0.2.3)\r\n",
      "Requirement already satisfied: warc3-wet-clueweb09>=0.2.5 in /home/shengyi/.local/lib/python3.10/site-packages (from ir-datasets>=0.3.2->python-terrier) (0.2.5)\r\n",
      "Requirement already satisfied: zlib-state>=0.1.3 in /home/shengyi/.local/lib/python3.10/site-packages (from ir-datasets>=0.3.2->python-terrier) (0.1.6)\r\n",
      "Requirement already satisfied: ijson>=3.1.3 in /home/shengyi/.local/lib/python3.10/site-packages (from ir-datasets>=0.3.2->python-terrier) (3.2.3)\r\n",
      "Requirement already satisfied: pyautocorpus>=0.1.1 in /home/shengyi/.local/lib/python3.10/site-packages (from ir-datasets>=0.3.2->python-terrier) (0.1.12)\r\n",
      "Requirement already satisfied: unlzw3>=0.2.1 in /home/shengyi/.local/lib/python3.10/site-packages (from ir-datasets>=0.3.2->python-terrier) (0.2.2)\r\n",
      "Requirement already satisfied: cwl-eval>=1.0.10 in /home/shengyi/.local/lib/python3.10/site-packages (from ir-measures>=0.3.1->python-terrier) (1.0.12)\r\n",
      "Requirement already satisfied: charset-normalizer<4,>=2 in /home/shengyi/.local/lib/python3.10/site-packages (from requests->python-terrier) (3.3.0)\r\n",
      "Requirement already satisfied: idna<4,>=2.5 in /home/shengyi/.local/lib/python3.10/site-packages (from requests->python-terrier) (3.4)\r\n",
      "Requirement already satisfied: urllib3<3,>=1.21.1 in /home/shengyi/.local/lib/python3.10/site-packages (from requests->python-terrier) (2.0.6)\r\n",
      "Requirement already satisfied: certifi>=2017.4.17 in /home/shengyi/.local/lib/python3.10/site-packages (from requests->python-terrier) (2023.7.22)\r\n",
      "Requirement already satisfied: heapdict in /home/shengyi/.local/lib/python3.10/site-packages (from chest->python-terrier) (1.0.1)\r\n",
      "Requirement already satisfied: wrapt<2,>=1.10 in /home/shengyi/.local/lib/python3.10/site-packages (from deprecated->python-terrier) (1.15.0)\r\n",
      "Requirement already satisfied: MarkupSafe>=2.0 in /home/shengyi/.local/lib/python3.10/site-packages (from jinja2->python-terrier) (2.1.3)\r\n",
      "Requirement already satisfied: multiset<3.0,>=2.0 in /home/shengyi/.local/lib/python3.10/site-packages (from matchpy->python-terrier) (2.1.1)\r\n",
      "Requirement already satisfied: python-dateutil>=2.8.2 in /home/shengyi/.local/lib/python3.10/site-packages (from pandas->python-terrier) (2.8.2)\r\n",
      "Requirement already satisfied: pytz>=2020.1 in /home/shengyi/.local/lib/python3.10/site-packages (from pandas->python-terrier) (2023.3.post1)\r\n",
      "Requirement already satisfied: tzdata>=2022.1 in /home/shengyi/.local/lib/python3.10/site-packages (from pandas->python-terrier) (2023.3)\r\n",
      "Requirement already satisfied: threadpoolctl>=2.0.0 in /home/shengyi/.local/lib/python3.10/site-packages (from scikit-learn->python-terrier) (3.2.0)\r\n",
      "Requirement already satisfied: patsy>=0.5.4 in /home/shengyi/.local/lib/python3.10/site-packages (from statsmodels->python-terrier) (0.5.6)\r\n",
      "Requirement already satisfied: packaging>=21.3 in /home/shengyi/.local/lib/python3.10/site-packages (from statsmodels->python-terrier) (23.2)\r\n",
      "Requirement already satisfied: soupsieve>1.2 in /home/shengyi/.local/lib/python3.10/site-packages (from beautifulsoup4>=4.4.1->ir-datasets>=0.3.2->python-terrier) (2.5)\r\n",
      "Requirement already satisfied: six in /usr/lib/python3/dist-packages (from patsy>=0.5.4->statsmodels->python-terrier) (1.16.0)\r\n",
      "Requirement already satisfied: cbor>=1.0.0 in /home/shengyi/.local/lib/python3.10/site-packages (from trec-car-tools>=2.5.4->ir-datasets>=0.3.2->python-terrier) (1.0.0)\r\n",
      "Using cached pytrec_eval_terrier-0.5.6-cp310-cp310-manylinux_2_17_x86_64.manylinux2014_x86_64.whl (287 kB)\r\n",
      "\u001B[33mDEPRECATION: pytorch-lightning 1.7.7 has a non-standard dependency specifier torch>=1.9.*. pip 23.3 will enforce this behaviour change. A possible replacement is to upgrade to a newer version of pytorch-lightning or contact the author to suggest that they release a version with a conforming dependency specifiers. Discussion can be found at https://github.com/pypa/pip/issues/12063\u001B[0m\u001B[33m\r\n",
      "\u001B[0mInstalling collected packages: pytrec-eval-terrier\r\n",
      "  Attempting uninstall: pytrec-eval-terrier\r\n",
      "    Found existing installation: pytrec-eval-terrier 0.5.2\r\n",
      "    Uninstalling pytrec-eval-terrier-0.5.2:\r\n",
      "      Successfully uninstalled pytrec-eval-terrier-0.5.2\r\n",
      "\u001B[31mERROR: pip's dependency resolver does not currently take into account all the packages that are installed. This behaviour is the source of the following dependency conflicts.\r\n",
      "patapsco 1.0.0.dev0 requires pytrec-eval-terrier==0.5.2, but you have pytrec-eval-terrier 0.5.6 which is incompatible.\u001B[0m\u001B[31m\r\n",
      "\u001B[0mSuccessfully installed pytrec-eval-terrier-0.5.6\r\n",
      "\r\n",
      "\u001B[1m[\u001B[0m\u001B[34;49mnotice\u001B[0m\u001B[1;39;49m]\u001B[0m\u001B[39;49m A new release of pip is available: \u001B[0m\u001B[31;49m23.2.1\u001B[0m\u001B[39;49m -> \u001B[0m\u001B[32;49m24.0\u001B[0m\r\n",
      "\u001B[1m[\u001B[0m\u001B[34;49mnotice\u001B[0m\u001B[1;39;49m]\u001B[0m\u001B[39;49m To update, run: \u001B[0m\u001B[32;49mpython3.10 -m pip install --upgrade pip\u001B[0m\r\n",
      "/bin/bash: warning: setlocale: LC_ALL: cannot change locale (en_US.UTF-8)\r\n",
      "Defaulting to user installation because normal site-packages is not writeable\r\n",
      "Collecting git+https://github.com/hltcoe/patapsco\r\n",
      "  Cloning https://github.com/hltcoe/patapsco to /tmp/pip-req-build-n5rakdx0\r\n",
      "  Running command git clone --filter=blob:none --quiet https://github.com/hltcoe/patapsco /tmp/pip-req-build-n5rakdx0\r\n",
      "  Resolved https://github.com/hltcoe/patapsco to commit f90171f213098e3c25d136f89ff0441071865d08\r\n",
      "  Preparing metadata (setup.py) ... \u001B[?25ldone\r\n",
      "\u001B[?25hRequirement already satisfied: beautifulsoup4 in /home/shengyi/.local/lib/python3.10/site-packages (from patapsco==1.0.0.dev0) (4.12.2)\r\n",
      "Requirement already satisfied: flask in /home/shengyi/.local/lib/python3.10/site-packages (from patapsco==1.0.0.dev0) (3.0.2)\r\n",
      "Requirement already satisfied: flask-cors in /home/shengyi/.local/lib/python3.10/site-packages (from patapsco==1.0.0.dev0) (4.0.0)\r\n",
      "Requirement already satisfied: ftfy in /home/shengyi/.local/lib/python3.10/site-packages (from patapsco==1.0.0.dev0) (6.1.3)\r\n",
      "Requirement already satisfied: jieba in /home/shengyi/.local/lib/python3.10/site-packages (from patapsco==1.0.0.dev0) (0.42.1)\r\n",
      "Requirement already satisfied: ir_datasets in /home/shengyi/.local/lib/python3.10/site-packages (from patapsco==1.0.0.dev0) (0.5.6)\r\n",
      "Requirement already satisfied: luqum in /home/shengyi/.local/lib/python3.10/site-packages (from patapsco==1.0.0.dev0) (0.13.0)\r\n",
      "Requirement already satisfied: more-itertools in /usr/lib/python3/dist-packages (from patapsco==1.0.0.dev0) (8.10.0)\r\n",
      "Requirement already satisfied: nltk>=3.6.0 in /home/shengyi/.local/lib/python3.10/site-packages (from patapsco==1.0.0.dev0) (3.8.1)\r\n",
      "Requirement already satisfied: numpy in /home/shengyi/.local/lib/python3.10/site-packages (from patapsco==1.0.0.dev0) (1.26.0)\r\n",
      "Requirement already satisfied: parsivar-scale in /home/shengyi/.local/lib/python3.10/site-packages (from patapsco==1.0.0.dev0) (0.2.3)\r\n",
      "Requirement already satisfied: psutil in /home/shengyi/.local/lib/python3.10/site-packages (from patapsco==1.0.0.dev0) (5.9.5)\r\n",
      "Requirement already satisfied: pycountry in /home/shengyi/.local/lib/python3.10/site-packages (from patapsco==1.0.0.dev0) (23.12.11)\r\n",
      "Requirement already satisfied: pydantic<1.8.0,>=1.7.1 in /home/shengyi/.local/lib/python3.10/site-packages (from patapsco==1.0.0.dev0) (1.7.4)\r\n",
      "Requirement already satisfied: pymorphy2 in /home/shengyi/.local/lib/python3.10/site-packages (from patapsco==1.0.0.dev0) (0.9.1)\r\n",
      "Requirement already satisfied: pyserini==0.13.0 in /home/shengyi/.local/lib/python3.10/site-packages (from patapsco==1.0.0.dev0) (0.13.0)\r\n",
      "Collecting pytrec-eval-terrier==0.5.2 (from patapsco==1.0.0.dev0)\r\n",
      "  Using cached pytrec_eval_terrier-0.5.2-cp310-cp310-linux_x86_64.whl\r\n",
      "Requirement already satisfied: pyyaml in /usr/lib/python3/dist-packages (from patapsco==1.0.0.dev0) (5.4.1)\r\n",
      "Requirement already satisfied: sacremoses in /home/shengyi/.local/lib/python3.10/site-packages (from patapsco==1.0.0.dev0) (0.1.1)\r\n",
      "Requirement already satisfied: spacy>=3.0.0 in /home/shengyi/.local/lib/python3.10/site-packages (from patapsco==1.0.0.dev0) (3.7.4)\r\n",
      "Requirement already satisfied: spacy-pkuseg<0.1.0,>=0.0.27 in /home/shengyi/.local/lib/python3.10/site-packages (from patapsco==1.0.0.dev0) (0.0.33)\r\n",
      "Requirement already satisfied: sqlitedict in /home/shengyi/.local/lib/python3.10/site-packages (from patapsco==1.0.0.dev0) (2.1.0)\r\n",
      "Requirement already satisfied: stanza>=1.2.1 in /home/shengyi/.local/lib/python3.10/site-packages (from patapsco==1.0.0.dev0) (1.8.1)\r\n",
      "Requirement already satisfied: Cython>=0.29.21 in /home/shengyi/.local/lib/python3.10/site-packages (from pyserini==0.13.0->patapsco==1.0.0.dev0) (3.0.9)\r\n",
      "Requirement already satisfied: pandas>=1.1.5 in /home/shengyi/.local/lib/python3.10/site-packages (from pyserini==0.13.0->patapsco==1.0.0.dev0) (2.1.1)\r\n",
      "Requirement already satisfied: pyjnius>=1.2.1 in /home/shengyi/.local/lib/python3.10/site-packages (from pyserini==0.13.0->patapsco==1.0.0.dev0) (1.6.1)\r\n",
      "Requirement already satisfied: scikit-learn>=0.22.1 in /home/shengyi/.local/lib/python3.10/site-packages (from pyserini==0.13.0->patapsco==1.0.0.dev0) (1.3.1)\r\n",
      "Requirement already satisfied: scipy>=1.4.1 in /home/shengyi/.local/lib/python3.10/site-packages (from pyserini==0.13.0->patapsco==1.0.0.dev0) (1.11.3)\r\n",
      "Requirement already satisfied: tqdm in /home/shengyi/.local/lib/python3.10/site-packages (from pyserini==0.13.0->patapsco==1.0.0.dev0) (4.66.1)\r\n",
      "Requirement already satisfied: transformers>=4.6.0 in /home/shengyi/.local/lib/python3.10/site-packages (from pyserini==0.13.0->patapsco==1.0.0.dev0) (4.38.2)\r\n",
      "Requirement already satisfied: sentencepiece>=0.1.95 in /home/shengyi/.local/lib/python3.10/site-packages (from pyserini==0.13.0->patapsco==1.0.0.dev0) (0.2.0)\r\n",
      "Requirement already satisfied: nmslib in /home/shengyi/.local/lib/python3.10/site-packages (from pyserini==0.13.0->patapsco==1.0.0.dev0) (2.1.1)\r\n",
      "Requirement already satisfied: click in /home/shengyi/.local/lib/python3.10/site-packages (from nltk>=3.6.0->patapsco==1.0.0.dev0) (8.1.7)\r\n",
      "Requirement already satisfied: joblib in /home/shengyi/.local/lib/python3.10/site-packages (from nltk>=3.6.0->patapsco==1.0.0.dev0) (1.3.2)\r\n",
      "Requirement already satisfied: regex>=2021.8.3 in /home/shengyi/.local/lib/python3.10/site-packages (from nltk>=3.6.0->patapsco==1.0.0.dev0) (2023.12.25)\r\n",
      "Requirement already satisfied: spacy-legacy<3.1.0,>=3.0.11 in /home/shengyi/.local/lib/python3.10/site-packages (from spacy>=3.0.0->patapsco==1.0.0.dev0) (3.0.12)\r\n",
      "Requirement already satisfied: spacy-loggers<2.0.0,>=1.0.0 in /home/shengyi/.local/lib/python3.10/site-packages (from spacy>=3.0.0->patapsco==1.0.0.dev0) (1.0.5)\r\n",
      "Requirement already satisfied: murmurhash<1.1.0,>=0.28.0 in /home/shengyi/.local/lib/python3.10/site-packages (from spacy>=3.0.0->patapsco==1.0.0.dev0) (1.0.10)\r\n",
      "Requirement already satisfied: cymem<2.1.0,>=2.0.2 in /home/shengyi/.local/lib/python3.10/site-packages (from spacy>=3.0.0->patapsco==1.0.0.dev0) (2.0.8)\r\n",
      "Requirement already satisfied: preshed<3.1.0,>=3.0.2 in /home/shengyi/.local/lib/python3.10/site-packages (from spacy>=3.0.0->patapsco==1.0.0.dev0) (3.0.9)\r\n",
      "Requirement already satisfied: thinc<8.3.0,>=8.2.2 in /home/shengyi/.local/lib/python3.10/site-packages (from spacy>=3.0.0->patapsco==1.0.0.dev0) (8.2.3)\r\n",
      "Requirement already satisfied: wasabi<1.2.0,>=0.9.1 in /home/shengyi/.local/lib/python3.10/site-packages (from spacy>=3.0.0->patapsco==1.0.0.dev0) (1.1.2)\r\n",
      "Requirement already satisfied: srsly<3.0.0,>=2.4.3 in /home/shengyi/.local/lib/python3.10/site-packages (from spacy>=3.0.0->patapsco==1.0.0.dev0) (2.4.8)\r\n",
      "Requirement already satisfied: catalogue<2.1.0,>=2.0.6 in /home/shengyi/.local/lib/python3.10/site-packages (from spacy>=3.0.0->patapsco==1.0.0.dev0) (2.0.10)\r\n",
      "Requirement already satisfied: weasel<0.4.0,>=0.1.0 in /home/shengyi/.local/lib/python3.10/site-packages (from spacy>=3.0.0->patapsco==1.0.0.dev0) (0.3.4)\r\n",
      "Requirement already satisfied: typer<0.10.0,>=0.3.0 in /home/shengyi/.local/lib/python3.10/site-packages (from spacy>=3.0.0->patapsco==1.0.0.dev0) (0.9.0)\r\n",
      "Requirement already satisfied: smart-open<7.0.0,>=5.2.1 in /home/shengyi/.local/lib/python3.10/site-packages (from spacy>=3.0.0->patapsco==1.0.0.dev0) (6.4.0)\r\n",
      "Requirement already satisfied: requests<3.0.0,>=2.13.0 in /home/shengyi/.local/lib/python3.10/site-packages (from spacy>=3.0.0->patapsco==1.0.0.dev0) (2.31.0)\r\n",
      "Requirement already satisfied: jinja2 in /home/shengyi/.local/lib/python3.10/site-packages (from spacy>=3.0.0->patapsco==1.0.0.dev0) (3.1.2)\r\n",
      "Requirement already satisfied: setuptools in /home/shengyi/.local/lib/python3.10/site-packages (from spacy>=3.0.0->patapsco==1.0.0.dev0) (68.2.2)\r\n",
      "Requirement already satisfied: packaging>=20.0 in /home/shengyi/.local/lib/python3.10/site-packages (from spacy>=3.0.0->patapsco==1.0.0.dev0) (23.2)\r\n",
      "Requirement already satisfied: langcodes<4.0.0,>=3.2.0 in /home/shengyi/.local/lib/python3.10/site-packages (from spacy>=3.0.0->patapsco==1.0.0.dev0) (3.3.0)\r\n",
      "Requirement already satisfied: emoji in /home/shengyi/.local/lib/python3.10/site-packages (from stanza>=1.2.1->patapsco==1.0.0.dev0) (2.10.1)\r\n",
      "Requirement already satisfied: protobuf>=3.15.0 in /home/shengyi/.local/lib/python3.10/site-packages (from stanza>=1.2.1->patapsco==1.0.0.dev0) (4.24.4)\r\n",
      "Requirement already satisfied: networkx in /home/shengyi/.local/lib/python3.10/site-packages (from stanza>=1.2.1->patapsco==1.0.0.dev0) (3.1)\r\n",
      "Requirement already satisfied: toml in /home/shengyi/.local/lib/python3.10/site-packages (from stanza>=1.2.1->patapsco==1.0.0.dev0) (0.10.2)\r\n",
      "Requirement already satisfied: torch>=1.3.0 in /home/shengyi/.local/lib/python3.10/site-packages (from stanza>=1.2.1->patapsco==1.0.0.dev0) (2.1.0)\r\n",
      "Requirement already satisfied: soupsieve>1.2 in /home/shengyi/.local/lib/python3.10/site-packages (from beautifulsoup4->patapsco==1.0.0.dev0) (2.5)\r\n",
      "Requirement already satisfied: Werkzeug>=3.0.0 in /home/shengyi/.local/lib/python3.10/site-packages (from flask->patapsco==1.0.0.dev0) (3.0.0)\r\n",
      "Requirement already satisfied: itsdangerous>=2.1.2 in /home/shengyi/.local/lib/python3.10/site-packages (from flask->patapsco==1.0.0.dev0) (2.1.2)\r\n",
      "Requirement already satisfied: blinker>=1.6.2 in /home/shengyi/.local/lib/python3.10/site-packages (from flask->patapsco==1.0.0.dev0) (1.7.0)\r\n",
      "Requirement already satisfied: wcwidth<0.3.0,>=0.2.12 in /home/shengyi/.local/lib/python3.10/site-packages (from ftfy->patapsco==1.0.0.dev0) (0.2.13)\r\n",
      "Requirement already satisfied: inscriptis>=2.2.0 in /home/shengyi/.local/lib/python3.10/site-packages (from ir_datasets->patapsco==1.0.0.dev0) (2.5.0)\r\n",
      "Requirement already satisfied: lxml>=4.5.2 in /home/shengyi/.local/lib/python3.10/site-packages (from ir_datasets->patapsco==1.0.0.dev0) (5.1.0)\r\n",
      "Requirement already satisfied: trec-car-tools>=2.5.4 in /home/shengyi/.local/lib/python3.10/site-packages (from ir_datasets->patapsco==1.0.0.dev0) (2.6)\r\n",
      "Requirement already satisfied: lz4>=3.1.10 in /home/shengyi/.local/lib/python3.10/site-packages (from ir_datasets->patapsco==1.0.0.dev0) (4.3.3)\r\n",
      "Requirement already satisfied: warc3-wet>=0.2.3 in /home/shengyi/.local/lib/python3.10/site-packages (from ir_datasets->patapsco==1.0.0.dev0) (0.2.3)\r\n",
      "Requirement already satisfied: warc3-wet-clueweb09>=0.2.5 in /home/shengyi/.local/lib/python3.10/site-packages (from ir_datasets->patapsco==1.0.0.dev0) (0.2.5)\r\n",
      "Requirement already satisfied: zlib-state>=0.1.3 in /home/shengyi/.local/lib/python3.10/site-packages (from ir_datasets->patapsco==1.0.0.dev0) (0.1.6)\r\n",
      "Requirement already satisfied: ijson>=3.1.3 in /home/shengyi/.local/lib/python3.10/site-packages (from ir_datasets->patapsco==1.0.0.dev0) (3.2.3)\r\n",
      "Requirement already satisfied: pyautocorpus>=0.1.1 in /home/shengyi/.local/lib/python3.10/site-packages (from ir_datasets->patapsco==1.0.0.dev0) (0.1.12)\r\n",
      "Requirement already satisfied: unlzw3>=0.2.1 in /home/shengyi/.local/lib/python3.10/site-packages (from ir_datasets->patapsco==1.0.0.dev0) (0.2.2)\r\n",
      "Requirement already satisfied: ply>=3.11 in /home/shengyi/.local/lib/python3.10/site-packages (from luqum->patapsco==1.0.0.dev0) (3.11)\r\n",
      "Requirement already satisfied: dawg-python>=0.7.1 in /home/shengyi/.local/lib/python3.10/site-packages (from pymorphy2->patapsco==1.0.0.dev0) (0.7.2)\r\n",
      "Requirement already satisfied: pymorphy2-dicts-ru<3.0,>=2.4 in /home/shengyi/.local/lib/python3.10/site-packages (from pymorphy2->patapsco==1.0.0.dev0) (2.4.417127.4579844)\r\n",
      "Requirement already satisfied: docopt>=0.6 in /home/shengyi/.local/lib/python3.10/site-packages (from pymorphy2->patapsco==1.0.0.dev0) (0.6.2)\r\n",
      "Requirement already satisfied: MarkupSafe>=2.0 in /home/shengyi/.local/lib/python3.10/site-packages (from jinja2->spacy>=3.0.0->patapsco==1.0.0.dev0) (2.1.3)\r\n",
      "Requirement already satisfied: python-dateutil>=2.8.2 in /home/shengyi/.local/lib/python3.10/site-packages (from pandas>=1.1.5->pyserini==0.13.0->patapsco==1.0.0.dev0) (2.8.2)\r\n",
      "Requirement already satisfied: pytz>=2020.1 in /home/shengyi/.local/lib/python3.10/site-packages (from pandas>=1.1.5->pyserini==0.13.0->patapsco==1.0.0.dev0) (2023.3.post1)\r\n",
      "Requirement already satisfied: tzdata>=2022.1 in /home/shengyi/.local/lib/python3.10/site-packages (from pandas>=1.1.5->pyserini==0.13.0->patapsco==1.0.0.dev0) (2023.3)\r\n",
      "Requirement already satisfied: charset-normalizer<4,>=2 in /home/shengyi/.local/lib/python3.10/site-packages (from requests<3.0.0,>=2.13.0->spacy>=3.0.0->patapsco==1.0.0.dev0) (3.3.0)\r\n",
      "Requirement already satisfied: idna<4,>=2.5 in /home/shengyi/.local/lib/python3.10/site-packages (from requests<3.0.0,>=2.13.0->spacy>=3.0.0->patapsco==1.0.0.dev0) (3.4)\r\n",
      "Requirement already satisfied: urllib3<3,>=1.21.1 in /home/shengyi/.local/lib/python3.10/site-packages (from requests<3.0.0,>=2.13.0->spacy>=3.0.0->patapsco==1.0.0.dev0) (2.0.6)\r\n",
      "Requirement already satisfied: certifi>=2017.4.17 in /home/shengyi/.local/lib/python3.10/site-packages (from requests<3.0.0,>=2.13.0->spacy>=3.0.0->patapsco==1.0.0.dev0) (2023.7.22)\r\n",
      "Requirement already satisfied: threadpoolctl>=2.0.0 in /home/shengyi/.local/lib/python3.10/site-packages (from scikit-learn>=0.22.1->pyserini==0.13.0->patapsco==1.0.0.dev0) (3.2.0)\r\n",
      "Requirement already satisfied: blis<0.8.0,>=0.7.8 in /home/shengyi/.local/lib/python3.10/site-packages (from thinc<8.3.0,>=8.2.2->spacy>=3.0.0->patapsco==1.0.0.dev0) (0.7.11)\r\n",
      "Requirement already satisfied: confection<1.0.0,>=0.0.1 in /home/shengyi/.local/lib/python3.10/site-packages (from thinc<8.3.0,>=8.2.2->spacy>=3.0.0->patapsco==1.0.0.dev0) (0.1.4)\r\n",
      "Requirement already satisfied: filelock in /home/shengyi/.local/lib/python3.10/site-packages (from torch>=1.3.0->stanza>=1.2.1->patapsco==1.0.0.dev0) (3.12.4)\r\n",
      "Requirement already satisfied: typing-extensions in /home/shengyi/.local/lib/python3.10/site-packages (from torch>=1.3.0->stanza>=1.2.1->patapsco==1.0.0.dev0) (4.8.0)\r\n",
      "Requirement already satisfied: sympy in /home/shengyi/.local/lib/python3.10/site-packages (from torch>=1.3.0->stanza>=1.2.1->patapsco==1.0.0.dev0) (1.12)\r\n",
      "Requirement already satisfied: fsspec in /home/shengyi/.local/lib/python3.10/site-packages (from torch>=1.3.0->stanza>=1.2.1->patapsco==1.0.0.dev0) (2023.9.2)\r\n",
      "Requirement already satisfied: nvidia-cuda-nvrtc-cu12==12.1.105 in /home/shengyi/.local/lib/python3.10/site-packages (from torch>=1.3.0->stanza>=1.2.1->patapsco==1.0.0.dev0) (12.1.105)\r\n",
      "Requirement already satisfied: nvidia-cuda-runtime-cu12==12.1.105 in /home/shengyi/.local/lib/python3.10/site-packages (from torch>=1.3.0->stanza>=1.2.1->patapsco==1.0.0.dev0) (12.1.105)\r\n",
      "Requirement already satisfied: nvidia-cuda-cupti-cu12==12.1.105 in /home/shengyi/.local/lib/python3.10/site-packages (from torch>=1.3.0->stanza>=1.2.1->patapsco==1.0.0.dev0) (12.1.105)\r\n",
      "Requirement already satisfied: nvidia-cudnn-cu12==8.9.2.26 in /home/shengyi/.local/lib/python3.10/site-packages (from torch>=1.3.0->stanza>=1.2.1->patapsco==1.0.0.dev0) (8.9.2.26)\r\n",
      "Requirement already satisfied: nvidia-cublas-cu12==12.1.3.1 in /home/shengyi/.local/lib/python3.10/site-packages (from torch>=1.3.0->stanza>=1.2.1->patapsco==1.0.0.dev0) (12.1.3.1)\r\n",
      "Requirement already satisfied: nvidia-cufft-cu12==11.0.2.54 in /home/shengyi/.local/lib/python3.10/site-packages (from torch>=1.3.0->stanza>=1.2.1->patapsco==1.0.0.dev0) (11.0.2.54)\r\n",
      "Requirement already satisfied: nvidia-curand-cu12==10.3.2.106 in /home/shengyi/.local/lib/python3.10/site-packages (from torch>=1.3.0->stanza>=1.2.1->patapsco==1.0.0.dev0) (10.3.2.106)\r\n",
      "Requirement already satisfied: nvidia-cusolver-cu12==11.4.5.107 in /home/shengyi/.local/lib/python3.10/site-packages (from torch>=1.3.0->stanza>=1.2.1->patapsco==1.0.0.dev0) (11.4.5.107)\r\n",
      "Requirement already satisfied: nvidia-cusparse-cu12==12.1.0.106 in /home/shengyi/.local/lib/python3.10/site-packages (from torch>=1.3.0->stanza>=1.2.1->patapsco==1.0.0.dev0) (12.1.0.106)\r\n",
      "Requirement already satisfied: nvidia-nccl-cu12==2.18.1 in /home/shengyi/.local/lib/python3.10/site-packages (from torch>=1.3.0->stanza>=1.2.1->patapsco==1.0.0.dev0) (2.18.1)\r\n",
      "Requirement already satisfied: nvidia-nvtx-cu12==12.1.105 in /home/shengyi/.local/lib/python3.10/site-packages (from torch>=1.3.0->stanza>=1.2.1->patapsco==1.0.0.dev0) (12.1.105)\r\n",
      "Requirement already satisfied: triton==2.1.0 in /home/shengyi/.local/lib/python3.10/site-packages (from torch>=1.3.0->stanza>=1.2.1->patapsco==1.0.0.dev0) (2.1.0)\r\n",
      "Requirement already satisfied: nvidia-nvjitlink-cu12 in /home/shengyi/.local/lib/python3.10/site-packages (from nvidia-cusolver-cu12==11.4.5.107->torch>=1.3.0->stanza>=1.2.1->patapsco==1.0.0.dev0) (12.2.140)\r\n",
      "Requirement already satisfied: huggingface-hub<1.0,>=0.19.3 in /home/shengyi/.local/lib/python3.10/site-packages (from transformers>=4.6.0->pyserini==0.13.0->patapsco==1.0.0.dev0) (0.21.3)\r\n",
      "Requirement already satisfied: tokenizers<0.19,>=0.14 in /home/shengyi/.local/lib/python3.10/site-packages (from transformers>=4.6.0->pyserini==0.13.0->patapsco==1.0.0.dev0) (0.15.2)\r\n",
      "Requirement already satisfied: safetensors>=0.4.1 in /home/shengyi/.local/lib/python3.10/site-packages (from transformers>=4.6.0->pyserini==0.13.0->patapsco==1.0.0.dev0) (0.4.2)\r\n",
      "Requirement already satisfied: cbor>=1.0.0 in /home/shengyi/.local/lib/python3.10/site-packages (from trec-car-tools>=2.5.4->ir_datasets->patapsco==1.0.0.dev0) (1.0.0)\r\n",
      "Requirement already satisfied: cloudpathlib<0.17.0,>=0.7.0 in /home/shengyi/.local/lib/python3.10/site-packages (from weasel<0.4.0,>=0.1.0->spacy>=3.0.0->patapsco==1.0.0.dev0) (0.16.0)\r\n",
      "Requirement already satisfied: pybind11<2.6.2 in /home/shengyi/.local/lib/python3.10/site-packages (from nmslib->pyserini==0.13.0->patapsco==1.0.0.dev0) (2.6.1)\r\n",
      "Requirement already satisfied: six>=1.5 in /usr/lib/python3/dist-packages (from python-dateutil>=2.8.2->pandas>=1.1.5->pyserini==0.13.0->patapsco==1.0.0.dev0) (1.16.0)\r\n",
      "Requirement already satisfied: mpmath>=0.19 in /home/shengyi/.local/lib/python3.10/site-packages (from sympy->torch>=1.3.0->stanza>=1.2.1->patapsco==1.0.0.dev0) (1.3.0)\r\n",
      "\u001B[33mDEPRECATION: pytorch-lightning 1.7.7 has a non-standard dependency specifier torch>=1.9.*. pip 23.3 will enforce this behaviour change. A possible replacement is to upgrade to a newer version of pytorch-lightning or contact the author to suggest that they release a version with a conforming dependency specifiers. Discussion can be found at https://github.com/pypa/pip/issues/12063\u001B[0m\u001B[33m\r\n",
      "\u001B[0mInstalling collected packages: pytrec-eval-terrier\r\n",
      "  Attempting uninstall: pytrec-eval-terrier\r\n",
      "    Found existing installation: pytrec-eval-terrier 0.5.6\r\n",
      "    Uninstalling pytrec-eval-terrier-0.5.6:\r\n",
      "      Successfully uninstalled pytrec-eval-terrier-0.5.6\r\n",
      "\u001B[31mERROR: pip's dependency resolver does not currently take into account all the packages that are installed. This behaviour is the source of the following dependency conflicts.\r\n",
      "ir-measures 0.3.3 requires pytrec-eval-terrier>=0.5.5, but you have pytrec-eval-terrier 0.5.2 which is incompatible.\r\n",
      "python-terrier 0.10.0 requires pytrec-eval-terrier>=0.5.3, but you have pytrec-eval-terrier 0.5.2 which is incompatible.\u001B[0m\u001B[31m\r\n",
      "\u001B[0mSuccessfully installed pytrec-eval-terrier-0.5.2\r\n",
      "\r\n",
      "\u001B[1m[\u001B[0m\u001B[34;49mnotice\u001B[0m\u001B[1;39;49m]\u001B[0m\u001B[39;49m A new release of pip is available: \u001B[0m\u001B[31;49m23.2.1\u001B[0m\u001B[39;49m -> \u001B[0m\u001B[32;49m24.0\u001B[0m\r\n",
      "\u001B[1m[\u001B[0m\u001B[34;49mnotice\u001B[0m\u001B[1;39;49m]\u001B[0m\u001B[39;49m To update, run: \u001B[0m\u001B[32;49mpython3.10 -m pip install --upgrade pip\u001B[0m\r\n"
     ]
    },
    {
     "data": {
      "text/plain": "Downloading https://raw.githubusercontent.com/stanfordnlp/stanza-resources/main/resources_1.8.0.json:   0%|   …",
      "application/vnd.jupyter.widget-view+json": {
       "version_major": 2,
       "version_minor": 0,
       "model_id": "1708d53a353e48b3a31edaefd1bd8d0a"
      }
     },
     "metadata": {},
     "output_type": "display_data"
    },
    {
     "name": "stderr",
     "output_type": "stream",
     "text": [
      "2024-03-06 19:14:50 INFO: Downloaded file to /home/shengyi/stanza_resources/resources.json\n",
      "2024-03-06 19:14:50 INFO: \"zh\" is an alias for \"zh-hans\"\n",
      "2024-03-06 19:14:50 INFO: Downloading default packages for language: zh-hans (Simplified_Chinese) ...\n",
      "2024-03-06 19:14:55 INFO: File exists: /home/shengyi/stanza_resources/zh-hans/default.zip\n",
      "2024-03-06 19:15:00 INFO: Finished downloading models and saved to /home/shengyi/stanza_resources\n"
     ]
    },
    {
     "data": {
      "text/plain": "Downloading https://raw.githubusercontent.com/stanfordnlp/stanza-resources/main/resources_1.8.0.json:   0%|   …",
      "application/vnd.jupyter.widget-view+json": {
       "version_major": 2,
       "version_minor": 0,
       "model_id": "e3fb97a2fa8842aaba0154a1e1968682"
      }
     },
     "metadata": {},
     "output_type": "display_data"
    },
    {
     "name": "stderr",
     "output_type": "stream",
     "text": [
      "2024-03-06 19:15:01 INFO: Downloaded file to /home/shengyi/stanza_resources/resources.json\n",
      "2024-03-06 19:15:01 INFO: Downloading default packages for language: en (English) ...\n",
      "2024-03-06 19:15:01 INFO: File exists: /home/shengyi/stanza_resources/en/default.zip\n",
      "2024-03-06 19:15:05 INFO: Finished downloading models and saved to /home/shengyi/stanza_resources\n"
     ]
    }
   ],
   "source": [
    "!pip install stanza\n",
    "!pip install python-terrier\n",
    "!pip install git+https://github.com/hltcoe/patapsco  --upgrade\n",
    "\n",
    "import stanza\n",
    "stanza.download('zh')\n",
    "stanza.download('en')"
   ]
  },
  {
   "cell_type": "markdown",
   "id": "5f105ee0",
   "metadata": {
    "id": "5f105ee0"
   },
   "source": [
    "Then we download the demo data from our GitHub repository into the colab workspace."
   ]
  },
  {
   "cell_type": "code",
   "execution_count": 2,
   "id": "517c6d8e",
   "metadata": {
    "id": "517c6d8e",
    "ExecuteTime": {
     "end_time": "2024-03-07T00:15:07.420690Z",
     "start_time": "2024-03-07T00:15:05.722568Z"
    }
   },
   "outputs": [
    {
     "name": "stdout",
     "output_type": "stream",
     "text": [
      "/bin/bash: warning: setlocale: LC_ALL: cannot change locale (en_US.UTF-8)\r\n",
      "--2024-03-06 19:15:05--  https://raw.githubusercontent.com/hltcoe/patapsco/87f42da434deae187820714261aa0c522f4b5f26/samples/notebooks/zho_eng_clean_reduced_pdt.dict\r\n",
      "Resolving raw.githubusercontent.com (raw.githubusercontent.com)... 185.199.110.133, 185.199.111.133, 185.199.108.133, ...\r\n",
      "Connecting to raw.githubusercontent.com (raw.githubusercontent.com)|185.199.110.133|:443... connected.\r\n",
      "HTTP request sent, awaiting response... 200 OK\r\n",
      "Length: 84952507 (81M) [text/plain]\r\n",
      "Saving to: 'zho_eng_clean_reduced_pdt.dict.3'\r\n",
      "\r\n",
      "zho_eng_clean_reduc 100%[===================>]  81.02M   102MB/s    in 0.8s    \r\n",
      "\r\n",
      "2024-03-06 19:15:06 (102 MB/s) - 'zho_eng_clean_reduced_pdt.dict.3' saved [84952507/84952507]\r\n",
      "\r\n",
      "/bin/bash: warning: setlocale: LC_ALL: cannot change locale (en_US.UTF-8)\r\n",
      "--2024-03-06 19:15:06--  https://raw.githubusercontent.com/hltcoe/patapsco/master/samples/data/cc-news-zho-1000.jsonl\r\n",
      "Resolving raw.githubusercontent.com (raw.githubusercontent.com)... 185.199.110.133, 185.199.111.133, 185.199.108.133, ...\r\n",
      "Connecting to raw.githubusercontent.com (raw.githubusercontent.com)|185.199.110.133|:443... connected.\r\n",
      "HTTP request sent, awaiting response... 200 OK\r\n",
      "Length: 2489983 (2.4M) [text/plain]\r\n",
      "Saving to: 'cc-news-zho-1000.jsonl.3'\r\n",
      "\r\n",
      "cc-news-zho-1000.js 100%[===================>]   2.37M  --.-KB/s    in 0.09s   \r\n",
      "\r\n",
      "2024-03-06 19:15:06 (25.2 MB/s) - 'cc-news-zho-1000.jsonl.3' saved [2489983/2489983]\r\n",
      "\r\n",
      "/bin/bash: warning: setlocale: LC_ALL: cannot change locale (en_US.UTF-8)\r\n",
      "--2024-03-06 19:15:07--  https://raw.githubusercontent.com/hltcoe/patapsco/master/samples/data/dev.topics.v1-0.jsonl\r\n",
      "Resolving raw.githubusercontent.com (raw.githubusercontent.com)... 185.199.110.133, 185.199.111.133, 185.199.108.133, ...\r\n",
      "Connecting to raw.githubusercontent.com (raw.githubusercontent.com)|185.199.110.133|:443... connected.\r\n",
      "HTTP request sent, awaiting response... 200 OK\r\n",
      "Length: 9571 (9.3K) [text/plain]\r\n",
      "Saving to: 'dev.topics.v1-0.jsonl.3'\r\n",
      "\r\n",
      "dev.topics.v1-0.jso 100%[===================>]   9.35K  --.-KB/s    in 0.002s  \r\n",
      "\r\n",
      "2024-03-06 19:15:07 (4.49 MB/s) - 'dev.topics.v1-0.jsonl.3' saved [9571/9571]\r\n",
      "\r\n",
      "/bin/bash: warning: setlocale: LC_ALL: cannot change locale (en_US.UTF-8)\r\n",
      "--2024-03-06 19:15:07--  https://raw.githubusercontent.com/hltcoe/patapsco/master/samples/data/zho.toy-dev.qrels.v1-0.txt\r\n",
      "Resolving raw.githubusercontent.com (raw.githubusercontent.com)... 185.199.110.133, 185.199.111.133, 185.199.108.133, ...\r\n",
      "Connecting to raw.githubusercontent.com (raw.githubusercontent.com)|185.199.110.133|:443... connected.\r\n",
      "HTTP request sent, awaiting response... 200 OK\r\n",
      "Length: 1892 (1.8K) [text/plain]\r\n",
      "Saving to: 'zho.toy-dev.qrels.v1-0.txt.3'\r\n",
      "\r\n",
      "zho.toy-dev.qrels.v 100%[===================>]   1.85K  --.-KB/s    in 0s      \r\n",
      "\r\n",
      "2024-03-06 19:15:07 (20.4 MB/s) - 'zho.toy-dev.qrels.v1-0.txt.3' saved [1892/1892]\r\n",
      "\r\n"
     ]
    }
   ],
   "source": [
    "!wget https://raw.githubusercontent.com/hltcoe/patapsco/87f42da434deae187820714261aa0c522f4b5f26/samples/notebooks/zho_eng_clean_reduced_pdt.dict\n",
    "!wget https://raw.githubusercontent.com/hltcoe/patapsco/master/samples/data/cc-news-zho-1000.jsonl\n",
    "!wget https://raw.githubusercontent.com/hltcoe/patapsco/master/samples/data/dev.topics.v1-0.jsonl\n",
    "!wget https://raw.githubusercontent.com/hltcoe/patapsco/master/samples/data/zho.toy-dev.qrels.v1-0.txt"
   ]
  },
  {
   "cell_type": "markdown",
   "id": "e27e34a3",
   "metadata": {
    "id": "e27e34a3"
   },
   "source": [
    "Finally, we start importing the major packages."
   ]
  },
  {
   "cell_type": "code",
   "execution_count": 5,
   "id": "5d714407",
   "metadata": {
    "id": "5d714407",
    "outputId": "84c85918-25ca-425c-de08-8586df983977",
    "ExecuteTime": {
     "end_time": "2024-03-07T00:17:30.537454Z",
     "start_time": "2024-03-07T00:17:24.756925Z"
    }
   },
   "outputs": [
    {
     "name": "stdout",
     "output_type": "stream",
     "text": [
      "/bin/bash: warning: setlocale: LC_ALL: cannot change locale (en_US.UTF-8)\r\n",
      "Defaulting to user installation because normal site-packages is not writeable\r\n",
      "Requirement already satisfied: patapsco in /home/shengyi/.local/lib/python3.10/site-packages (1.0.0.dev0)\r\n",
      "Requirement already satisfied: beautifulsoup4 in /home/shengyi/.local/lib/python3.10/site-packages (from patapsco) (4.12.2)\r\n",
      "Requirement already satisfied: flask in /home/shengyi/.local/lib/python3.10/site-packages (from patapsco) (3.0.2)\r\n",
      "Requirement already satisfied: flask-cors in /home/shengyi/.local/lib/python3.10/site-packages (from patapsco) (4.0.0)\r\n",
      "Requirement already satisfied: ftfy in /home/shengyi/.local/lib/python3.10/site-packages (from patapsco) (6.1.3)\r\n",
      "Requirement already satisfied: jieba in /home/shengyi/.local/lib/python3.10/site-packages (from patapsco) (0.42.1)\r\n",
      "Requirement already satisfied: ir-datasets in /home/shengyi/.local/lib/python3.10/site-packages (from patapsco) (0.5.6)\r\n",
      "Requirement already satisfied: luqum in /home/shengyi/.local/lib/python3.10/site-packages (from patapsco) (0.13.0)\r\n",
      "Requirement already satisfied: more-itertools in /usr/lib/python3/dist-packages (from patapsco) (8.10.0)\r\n",
      "Requirement already satisfied: nltk>=3.6.0 in /home/shengyi/.local/lib/python3.10/site-packages (from patapsco) (3.8.1)\r\n",
      "Requirement already satisfied: numpy in /home/shengyi/.local/lib/python3.10/site-packages (from patapsco) (1.26.0)\r\n",
      "Requirement already satisfied: parsivar-scale in /home/shengyi/.local/lib/python3.10/site-packages (from patapsco) (0.2.3)\r\n",
      "Requirement already satisfied: psutil in /home/shengyi/.local/lib/python3.10/site-packages (from patapsco) (5.9.5)\r\n",
      "Requirement already satisfied: pycountry in /home/shengyi/.local/lib/python3.10/site-packages (from patapsco) (23.12.11)\r\n",
      "Requirement already satisfied: pydantic<1.8.0,>=1.7.1 in /home/shengyi/.local/lib/python3.10/site-packages (from patapsco) (1.7.4)\r\n",
      "Requirement already satisfied: pymorphy2 in /home/shengyi/.local/lib/python3.10/site-packages (from patapsco) (0.9.1)\r\n",
      "Requirement already satisfied: pyserini==0.13.0 in /home/shengyi/.local/lib/python3.10/site-packages (from patapsco) (0.13.0)\r\n",
      "Requirement already satisfied: pytrec-eval-terrier==0.5.2 in /home/shengyi/.local/lib/python3.10/site-packages (from patapsco) (0.5.2)\r\n",
      "Requirement already satisfied: pyyaml in /usr/lib/python3/dist-packages (from patapsco) (5.4.1)\r\n",
      "Requirement already satisfied: sacremoses in /home/shengyi/.local/lib/python3.10/site-packages (from patapsco) (0.1.1)\r\n",
      "Requirement already satisfied: spacy>=3.0.0 in /home/shengyi/.local/lib/python3.10/site-packages (from patapsco) (3.7.4)\r\n",
      "Requirement already satisfied: spacy-pkuseg<0.1.0,>=0.0.27 in /home/shengyi/.local/lib/python3.10/site-packages (from patapsco) (0.0.33)\r\n",
      "Requirement already satisfied: sqlitedict in /home/shengyi/.local/lib/python3.10/site-packages (from patapsco) (2.1.0)\r\n",
      "Requirement already satisfied: stanza>=1.2.1 in /home/shengyi/.local/lib/python3.10/site-packages (from patapsco) (1.8.1)\r\n",
      "Requirement already satisfied: Cython>=0.29.21 in /home/shengyi/.local/lib/python3.10/site-packages (from pyserini==0.13.0->patapsco) (3.0.9)\r\n",
      "Requirement already satisfied: pandas>=1.1.5 in /home/shengyi/.local/lib/python3.10/site-packages (from pyserini==0.13.0->patapsco) (2.1.1)\r\n",
      "Requirement already satisfied: pyjnius>=1.2.1 in /home/shengyi/.local/lib/python3.10/site-packages (from pyserini==0.13.0->patapsco) (1.6.1)\r\n",
      "Requirement already satisfied: scikit-learn>=0.22.1 in /home/shengyi/.local/lib/python3.10/site-packages (from pyserini==0.13.0->patapsco) (1.3.1)\r\n",
      "Requirement already satisfied: scipy>=1.4.1 in /home/shengyi/.local/lib/python3.10/site-packages (from pyserini==0.13.0->patapsco) (1.11.3)\r\n",
      "Requirement already satisfied: tqdm in /home/shengyi/.local/lib/python3.10/site-packages (from pyserini==0.13.0->patapsco) (4.66.1)\r\n",
      "Requirement already satisfied: transformers>=4.6.0 in /home/shengyi/.local/lib/python3.10/site-packages (from pyserini==0.13.0->patapsco) (4.38.2)\r\n",
      "Requirement already satisfied: sentencepiece>=0.1.95 in /home/shengyi/.local/lib/python3.10/site-packages (from pyserini==0.13.0->patapsco) (0.2.0)\r\n",
      "Requirement already satisfied: nmslib in /home/shengyi/.local/lib/python3.10/site-packages (from pyserini==0.13.0->patapsco) (2.1.1)\r\n",
      "Requirement already satisfied: click in /home/shengyi/.local/lib/python3.10/site-packages (from nltk>=3.6.0->patapsco) (8.1.7)\r\n",
      "Requirement already satisfied: joblib in /home/shengyi/.local/lib/python3.10/site-packages (from nltk>=3.6.0->patapsco) (1.3.2)\r\n",
      "Requirement already satisfied: regex>=2021.8.3 in /home/shengyi/.local/lib/python3.10/site-packages (from nltk>=3.6.0->patapsco) (2023.12.25)\r\n",
      "Requirement already satisfied: spacy-legacy<3.1.0,>=3.0.11 in /home/shengyi/.local/lib/python3.10/site-packages (from spacy>=3.0.0->patapsco) (3.0.12)\r\n",
      "Requirement already satisfied: spacy-loggers<2.0.0,>=1.0.0 in /home/shengyi/.local/lib/python3.10/site-packages (from spacy>=3.0.0->patapsco) (1.0.5)\r\n",
      "Requirement already satisfied: murmurhash<1.1.0,>=0.28.0 in /home/shengyi/.local/lib/python3.10/site-packages (from spacy>=3.0.0->patapsco) (1.0.10)\r\n",
      "Requirement already satisfied: cymem<2.1.0,>=2.0.2 in /home/shengyi/.local/lib/python3.10/site-packages (from spacy>=3.0.0->patapsco) (2.0.8)\r\n",
      "Requirement already satisfied: preshed<3.1.0,>=3.0.2 in /home/shengyi/.local/lib/python3.10/site-packages (from spacy>=3.0.0->patapsco) (3.0.9)\r\n",
      "Requirement already satisfied: thinc<8.3.0,>=8.2.2 in /home/shengyi/.local/lib/python3.10/site-packages (from spacy>=3.0.0->patapsco) (8.2.3)\r\n",
      "Requirement already satisfied: wasabi<1.2.0,>=0.9.1 in /home/shengyi/.local/lib/python3.10/site-packages (from spacy>=3.0.0->patapsco) (1.1.2)\r\n",
      "Requirement already satisfied: srsly<3.0.0,>=2.4.3 in /home/shengyi/.local/lib/python3.10/site-packages (from spacy>=3.0.0->patapsco) (2.4.8)\r\n",
      "Requirement already satisfied: catalogue<2.1.0,>=2.0.6 in /home/shengyi/.local/lib/python3.10/site-packages (from spacy>=3.0.0->patapsco) (2.0.10)\r\n",
      "Requirement already satisfied: weasel<0.4.0,>=0.1.0 in /home/shengyi/.local/lib/python3.10/site-packages (from spacy>=3.0.0->patapsco) (0.3.4)\r\n",
      "Requirement already satisfied: typer<0.10.0,>=0.3.0 in /home/shengyi/.local/lib/python3.10/site-packages (from spacy>=3.0.0->patapsco) (0.9.0)\r\n",
      "Requirement already satisfied: smart-open<7.0.0,>=5.2.1 in /home/shengyi/.local/lib/python3.10/site-packages (from spacy>=3.0.0->patapsco) (6.4.0)\r\n",
      "Requirement already satisfied: requests<3.0.0,>=2.13.0 in /home/shengyi/.local/lib/python3.10/site-packages (from spacy>=3.0.0->patapsco) (2.31.0)\r\n",
      "Requirement already satisfied: jinja2 in /home/shengyi/.local/lib/python3.10/site-packages (from spacy>=3.0.0->patapsco) (3.1.2)\r\n",
      "Requirement already satisfied: setuptools in /home/shengyi/.local/lib/python3.10/site-packages (from spacy>=3.0.0->patapsco) (68.2.2)\r\n",
      "Requirement already satisfied: packaging>=20.0 in /home/shengyi/.local/lib/python3.10/site-packages (from spacy>=3.0.0->patapsco) (23.2)\r\n",
      "Requirement already satisfied: langcodes<4.0.0,>=3.2.0 in /home/shengyi/.local/lib/python3.10/site-packages (from spacy>=3.0.0->patapsco) (3.3.0)\r\n",
      "Requirement already satisfied: emoji in /home/shengyi/.local/lib/python3.10/site-packages (from stanza>=1.2.1->patapsco) (2.10.1)\r\n",
      "Requirement already satisfied: protobuf>=3.15.0 in /home/shengyi/.local/lib/python3.10/site-packages (from stanza>=1.2.1->patapsco) (4.24.4)\r\n",
      "Requirement already satisfied: networkx in /home/shengyi/.local/lib/python3.10/site-packages (from stanza>=1.2.1->patapsco) (3.1)\r\n",
      "Requirement already satisfied: toml in /home/shengyi/.local/lib/python3.10/site-packages (from stanza>=1.2.1->patapsco) (0.10.2)\r\n",
      "Requirement already satisfied: torch>=1.3.0 in /home/shengyi/.local/lib/python3.10/site-packages (from stanza>=1.2.1->patapsco) (2.1.0)\r\n",
      "Requirement already satisfied: soupsieve>1.2 in /home/shengyi/.local/lib/python3.10/site-packages (from beautifulsoup4->patapsco) (2.5)\r\n",
      "Requirement already satisfied: Werkzeug>=3.0.0 in /home/shengyi/.local/lib/python3.10/site-packages (from flask->patapsco) (3.0.0)\r\n",
      "Requirement already satisfied: itsdangerous>=2.1.2 in /home/shengyi/.local/lib/python3.10/site-packages (from flask->patapsco) (2.1.2)\r\n",
      "Requirement already satisfied: blinker>=1.6.2 in /home/shengyi/.local/lib/python3.10/site-packages (from flask->patapsco) (1.7.0)\r\n",
      "Requirement already satisfied: wcwidth<0.3.0,>=0.2.12 in /home/shengyi/.local/lib/python3.10/site-packages (from ftfy->patapsco) (0.2.13)\r\n",
      "Requirement already satisfied: inscriptis>=2.2.0 in /home/shengyi/.local/lib/python3.10/site-packages (from ir-datasets->patapsco) (2.5.0)\r\n",
      "Requirement already satisfied: lxml>=4.5.2 in /home/shengyi/.local/lib/python3.10/site-packages (from ir-datasets->patapsco) (5.1.0)\r\n",
      "Requirement already satisfied: trec-car-tools>=2.5.4 in /home/shengyi/.local/lib/python3.10/site-packages (from ir-datasets->patapsco) (2.6)\r\n",
      "Requirement already satisfied: lz4>=3.1.10 in /home/shengyi/.local/lib/python3.10/site-packages (from ir-datasets->patapsco) (4.3.3)\r\n",
      "Requirement already satisfied: warc3-wet>=0.2.3 in /home/shengyi/.local/lib/python3.10/site-packages (from ir-datasets->patapsco) (0.2.3)\r\n",
      "Requirement already satisfied: warc3-wet-clueweb09>=0.2.5 in /home/shengyi/.local/lib/python3.10/site-packages (from ir-datasets->patapsco) (0.2.5)\r\n",
      "Requirement already satisfied: zlib-state>=0.1.3 in /home/shengyi/.local/lib/python3.10/site-packages (from ir-datasets->patapsco) (0.1.6)\r\n",
      "Requirement already satisfied: ijson>=3.1.3 in /home/shengyi/.local/lib/python3.10/site-packages (from ir-datasets->patapsco) (3.2.3)\r\n",
      "Requirement already satisfied: pyautocorpus>=0.1.1 in /home/shengyi/.local/lib/python3.10/site-packages (from ir-datasets->patapsco) (0.1.12)\r\n",
      "Requirement already satisfied: unlzw3>=0.2.1 in /home/shengyi/.local/lib/python3.10/site-packages (from ir-datasets->patapsco) (0.2.2)\r\n",
      "Requirement already satisfied: ply>=3.11 in /home/shengyi/.local/lib/python3.10/site-packages (from luqum->patapsco) (3.11)\r\n",
      "Requirement already satisfied: dawg-python>=0.7.1 in /home/shengyi/.local/lib/python3.10/site-packages (from pymorphy2->patapsco) (0.7.2)\r\n",
      "Requirement already satisfied: pymorphy2-dicts-ru<3.0,>=2.4 in /home/shengyi/.local/lib/python3.10/site-packages (from pymorphy2->patapsco) (2.4.417127.4579844)\r\n",
      "Requirement already satisfied: docopt>=0.6 in /home/shengyi/.local/lib/python3.10/site-packages (from pymorphy2->patapsco) (0.6.2)\r\n",
      "Requirement already satisfied: MarkupSafe>=2.0 in /home/shengyi/.local/lib/python3.10/site-packages (from jinja2->spacy>=3.0.0->patapsco) (2.1.3)\r\n",
      "Requirement already satisfied: python-dateutil>=2.8.2 in /home/shengyi/.local/lib/python3.10/site-packages (from pandas>=1.1.5->pyserini==0.13.0->patapsco) (2.8.2)\r\n",
      "Requirement already satisfied: pytz>=2020.1 in /home/shengyi/.local/lib/python3.10/site-packages (from pandas>=1.1.5->pyserini==0.13.0->patapsco) (2023.3.post1)\r\n",
      "Requirement already satisfied: tzdata>=2022.1 in /home/shengyi/.local/lib/python3.10/site-packages (from pandas>=1.1.5->pyserini==0.13.0->patapsco) (2023.3)\r\n",
      "Requirement already satisfied: charset-normalizer<4,>=2 in /home/shengyi/.local/lib/python3.10/site-packages (from requests<3.0.0,>=2.13.0->spacy>=3.0.0->patapsco) (3.3.0)\r\n",
      "Requirement already satisfied: idna<4,>=2.5 in /home/shengyi/.local/lib/python3.10/site-packages (from requests<3.0.0,>=2.13.0->spacy>=3.0.0->patapsco) (3.4)\r\n",
      "Requirement already satisfied: urllib3<3,>=1.21.1 in /home/shengyi/.local/lib/python3.10/site-packages (from requests<3.0.0,>=2.13.0->spacy>=3.0.0->patapsco) (2.0.6)\r\n",
      "Requirement already satisfied: certifi>=2017.4.17 in /home/shengyi/.local/lib/python3.10/site-packages (from requests<3.0.0,>=2.13.0->spacy>=3.0.0->patapsco) (2023.7.22)\r\n",
      "Requirement already satisfied: threadpoolctl>=2.0.0 in /home/shengyi/.local/lib/python3.10/site-packages (from scikit-learn>=0.22.1->pyserini==0.13.0->patapsco) (3.2.0)\r\n",
      "Requirement already satisfied: blis<0.8.0,>=0.7.8 in /home/shengyi/.local/lib/python3.10/site-packages (from thinc<8.3.0,>=8.2.2->spacy>=3.0.0->patapsco) (0.7.11)\r\n",
      "Requirement already satisfied: confection<1.0.0,>=0.0.1 in /home/shengyi/.local/lib/python3.10/site-packages (from thinc<8.3.0,>=8.2.2->spacy>=3.0.0->patapsco) (0.1.4)\r\n",
      "Requirement already satisfied: filelock in /home/shengyi/.local/lib/python3.10/site-packages (from torch>=1.3.0->stanza>=1.2.1->patapsco) (3.12.4)\r\n",
      "Requirement already satisfied: typing-extensions in /home/shengyi/.local/lib/python3.10/site-packages (from torch>=1.3.0->stanza>=1.2.1->patapsco) (4.8.0)\r\n",
      "Requirement already satisfied: sympy in /home/shengyi/.local/lib/python3.10/site-packages (from torch>=1.3.0->stanza>=1.2.1->patapsco) (1.12)\r\n",
      "Requirement already satisfied: fsspec in /home/shengyi/.local/lib/python3.10/site-packages (from torch>=1.3.0->stanza>=1.2.1->patapsco) (2023.9.2)\r\n",
      "Requirement already satisfied: nvidia-cuda-nvrtc-cu12==12.1.105 in /home/shengyi/.local/lib/python3.10/site-packages (from torch>=1.3.0->stanza>=1.2.1->patapsco) (12.1.105)\r\n",
      "Requirement already satisfied: nvidia-cuda-runtime-cu12==12.1.105 in /home/shengyi/.local/lib/python3.10/site-packages (from torch>=1.3.0->stanza>=1.2.1->patapsco) (12.1.105)\r\n",
      "Requirement already satisfied: nvidia-cuda-cupti-cu12==12.1.105 in /home/shengyi/.local/lib/python3.10/site-packages (from torch>=1.3.0->stanza>=1.2.1->patapsco) (12.1.105)\r\n",
      "Requirement already satisfied: nvidia-cudnn-cu12==8.9.2.26 in /home/shengyi/.local/lib/python3.10/site-packages (from torch>=1.3.0->stanza>=1.2.1->patapsco) (8.9.2.26)\r\n",
      "Requirement already satisfied: nvidia-cublas-cu12==12.1.3.1 in /home/shengyi/.local/lib/python3.10/site-packages (from torch>=1.3.0->stanza>=1.2.1->patapsco) (12.1.3.1)\r\n",
      "Requirement already satisfied: nvidia-cufft-cu12==11.0.2.54 in /home/shengyi/.local/lib/python3.10/site-packages (from torch>=1.3.0->stanza>=1.2.1->patapsco) (11.0.2.54)\r\n",
      "Requirement already satisfied: nvidia-curand-cu12==10.3.2.106 in /home/shengyi/.local/lib/python3.10/site-packages (from torch>=1.3.0->stanza>=1.2.1->patapsco) (10.3.2.106)\r\n",
      "Requirement already satisfied: nvidia-cusolver-cu12==11.4.5.107 in /home/shengyi/.local/lib/python3.10/site-packages (from torch>=1.3.0->stanza>=1.2.1->patapsco) (11.4.5.107)\r\n",
      "Requirement already satisfied: nvidia-cusparse-cu12==12.1.0.106 in /home/shengyi/.local/lib/python3.10/site-packages (from torch>=1.3.0->stanza>=1.2.1->patapsco) (12.1.0.106)\r\n",
      "Requirement already satisfied: nvidia-nccl-cu12==2.18.1 in /home/shengyi/.local/lib/python3.10/site-packages (from torch>=1.3.0->stanza>=1.2.1->patapsco) (2.18.1)\r\n",
      "Requirement already satisfied: nvidia-nvtx-cu12==12.1.105 in /home/shengyi/.local/lib/python3.10/site-packages (from torch>=1.3.0->stanza>=1.2.1->patapsco) (12.1.105)\r\n",
      "Requirement already satisfied: triton==2.1.0 in /home/shengyi/.local/lib/python3.10/site-packages (from torch>=1.3.0->stanza>=1.2.1->patapsco) (2.1.0)\r\n",
      "Requirement already satisfied: nvidia-nvjitlink-cu12 in /home/shengyi/.local/lib/python3.10/site-packages (from nvidia-cusolver-cu12==11.4.5.107->torch>=1.3.0->stanza>=1.2.1->patapsco) (12.2.140)\r\n",
      "Requirement already satisfied: huggingface-hub<1.0,>=0.19.3 in /home/shengyi/.local/lib/python3.10/site-packages (from transformers>=4.6.0->pyserini==0.13.0->patapsco) (0.21.3)\r\n",
      "Requirement already satisfied: tokenizers<0.19,>=0.14 in /home/shengyi/.local/lib/python3.10/site-packages (from transformers>=4.6.0->pyserini==0.13.0->patapsco) (0.15.2)\r\n",
      "Requirement already satisfied: safetensors>=0.4.1 in /home/shengyi/.local/lib/python3.10/site-packages (from transformers>=4.6.0->pyserini==0.13.0->patapsco) (0.4.2)\r\n",
      "Requirement already satisfied: cbor>=1.0.0 in /home/shengyi/.local/lib/python3.10/site-packages (from trec-car-tools>=2.5.4->ir-datasets->patapsco) (1.0.0)\r\n",
      "Requirement already satisfied: cloudpathlib<0.17.0,>=0.7.0 in /home/shengyi/.local/lib/python3.10/site-packages (from weasel<0.4.0,>=0.1.0->spacy>=3.0.0->patapsco) (0.16.0)\r\n",
      "Requirement already satisfied: pybind11<2.6.2 in /home/shengyi/.local/lib/python3.10/site-packages (from nmslib->pyserini==0.13.0->patapsco) (2.6.1)\r\n",
      "Requirement already satisfied: six>=1.5 in /usr/lib/python3/dist-packages (from python-dateutil>=2.8.2->pandas>=1.1.5->pyserini==0.13.0->patapsco) (1.16.0)\r\n",
      "Requirement already satisfied: mpmath>=0.19 in /home/shengyi/.local/lib/python3.10/site-packages (from sympy->torch>=1.3.0->stanza>=1.2.1->patapsco) (1.3.0)\r\n",
      "\u001B[33mDEPRECATION: pytorch-lightning 1.7.7 has a non-standard dependency specifier torch>=1.9.*. pip 23.3 will enforce this behaviour change. A possible replacement is to upgrade to a newer version of pytorch-lightning or contact the author to suggest that they release a version with a conforming dependency specifiers. Discussion can be found at https://github.com/pypa/pip/issues/12063\u001B[0m\u001B[33m\r\n",
      "\u001B[0m\r\n",
      "\u001B[1m[\u001B[0m\u001B[34;49mnotice\u001B[0m\u001B[1;39;49m]\u001B[0m\u001B[39;49m A new release of pip is available: \u001B[0m\u001B[31;49m23.2.1\u001B[0m\u001B[39;49m -> \u001B[0m\u001B[32;49m24.0\u001B[0m\r\n",
      "\u001B[1m[\u001B[0m\u001B[34;49mnotice\u001B[0m\u001B[1;39;49m]\u001B[0m\u001B[39;49m To update, run: \u001B[0m\u001B[32;49mpython3.10 -m pip install --upgrade pip\u001B[0m\r\n",
      "/bin/bash: warning: setlocale: LC_ALL: cannot change locale (en_US.UTF-8)\r\n",
      "Defaulting to user installation because normal site-packages is not writeable\r\n",
      "Requirement already satisfied: pyterrier in /home/shengyi/.local/lib/python3.10/site-packages (0.1.5)\r\n",
      "Requirement already satisfied: Click>=6.0 in /home/shengyi/.local/lib/python3.10/site-packages (from pyterrier) (8.1.7)\r\n",
      "Requirement already satisfied: jinja2>=2.10 in /home/shengyi/.local/lib/python3.10/site-packages (from pyterrier) (3.1.2)\r\n",
      "Requirement already satisfied: MarkupSafe>=2.0 in /home/shengyi/.local/lib/python3.10/site-packages (from jinja2>=2.10->pyterrier) (2.1.3)\r\n",
      "\u001B[33mDEPRECATION: pytorch-lightning 1.7.7 has a non-standard dependency specifier torch>=1.9.*. pip 23.3 will enforce this behaviour change. A possible replacement is to upgrade to a newer version of pytorch-lightning or contact the author to suggest that they release a version with a conforming dependency specifiers. Discussion can be found at https://github.com/pypa/pip/issues/12063\u001B[0m\u001B[33m\r\n",
      "\u001B[0m\r\n",
      "\u001B[1m[\u001B[0m\u001B[34;49mnotice\u001B[0m\u001B[1;39;49m]\u001B[0m\u001B[39;49m A new release of pip is available: \u001B[0m\u001B[31;49m23.2.1\u001B[0m\u001B[39;49m -> \u001B[0m\u001B[32;49m24.0\u001B[0m\r\n",
      "\u001B[1m[\u001B[0m\u001B[34;49mnotice\u001B[0m\u001B[1;39;49m]\u001B[0m\u001B[39;49m To update, run: \u001B[0m\u001B[32;49mpython3.10 -m pip install --upgrade pip\u001B[0m\r\n"
     ]
    },
    {
     "name": "stderr",
     "output_type": "stream",
     "text": [
      "PyTerrier 0.10.0 has loaded Terrier 5.8 (built by craigm on 2023-11-01 18:05) and terrier-helper 0.0.8\n",
      "\n",
      "No etc/terrier.properties, using terrier.default.properties for bootstrap configuration.\n",
      "SLF4J: Class path contains multiple SLF4J bindings.\n",
      "SLF4J: Found binding in [jar:file:/home/shengyi/.local/lib/python3.10/site-packages/pyserini/resources/jars/anserini-0.13.1-fatjar.jar!/org/slf4j/impl/StaticLoggerBinder.class]\n",
      "SLF4J: Found binding in [jar:file:/home/shengyi/.pyterrier/terrier-assemblies-5.8-jar-with-dependencies.jar!/org/slf4j/impl/StaticLoggerBinder.class]\n",
      "SLF4J: See http://www.slf4j.org/codes.html#multiple_bindings for an explanation.\n",
      "SLF4J: Actual binding is of type [org.slf4j.impl.SimpleLoggerFactory]\n"
     ]
    }
   ],
   "source": [
    "!pip install patapsco\n",
    "!pip install pyterrier\n",
    "import patapsco\n",
    "\n",
    "import pyterrier as pt\n",
    "if not pt.started():\n",
    "    pt.init(tqdm='notebook')"
   ]
  },
  {
   "cell_type": "code",
   "execution_count": 6,
   "id": "c292bb3c",
   "metadata": {
    "id": "c292bb3c",
    "ExecuteTime": {
     "end_time": "2024-03-07T00:17:42.221180Z",
     "start_time": "2024-03-07T00:17:42.217633Z"
    }
   },
   "outputs": [],
   "source": [
    "import copy\n",
    "import random\n",
    "from pathlib import Path\n",
    "\n",
    "import pandas as pd"
   ]
  },
  {
   "cell_type": "markdown",
   "id": "9901ded4",
   "metadata": {
    "id": "9901ded4"
   },
   "source": [
    "The configuration can be specified through a dictionary in python.\n",
    "If you like to run `patapsco` through our command line interface, it can be specified by a YAML file.\n",
    "\n",
    "A config file can specify a partial run from the start, e.g. from the beginning to indexing, or starting from an existing run, e.g., retrieval based on a pre-built index."
   ]
  },
  {
   "cell_type": "markdown",
   "id": "fa926e7e",
   "metadata": {
    "id": "fa926e7e"
   },
   "source": [
    "## A full retrieval pipeline -- from reading documents to producing scores"
   ]
  },
  {
   "cell_type": "markdown",
   "id": "ff7cf698",
   "metadata": {
    "id": "ff7cf698"
   },
   "source": [
    "The following is a configuration dictionary of a full `patapsco` pipeline.\n",
    "\n",
    "Here, we use a query translation approach as an example. Patapsco has the ability to select the source of the queries for the topics to support CLIR experiments."
   ]
  },
  {
   "cell_type": "code",
   "execution_count": 7,
   "id": "7578fc94",
   "metadata": {
    "id": "7578fc94",
    "ExecuteTime": {
     "end_time": "2024-03-07T00:17:51.783619Z",
     "start_time": "2024-03-07T00:17:51.778951Z"
    }
   },
   "outputs": [],
   "source": [
    "config_qt = {\n",
    "    # The identifier of the run -- patapsco prevent the same run from executing twice\n",
    "    \"run\": {\n",
    "        \"name\": \"query translation\"\n",
    "    },\n",
    "\n",
    "    # Documents for retrieval\n",
    "    \"documents\": {\n",
    "        # The source of the collection\n",
    "        # To use `ir_datasets`, specify `irds` as the format and the name of the dataset as the path\n",
    "        \"input\": {\n",
    "            \"format\": \"json\",\n",
    "            \"lang\": \"zho\",\n",
    "            \"encoding\": \"utf8\",\n",
    "            \"path\": \"cc-news-zho-1000.jsonl\",\n",
    "        },\n",
    "\n",
    "        # The preprocessing of the documents\n",
    "        \"process\": {\n",
    "            \"normalize\": {\n",
    "                \"lowercase\": True,\n",
    "            },\n",
    "            \"tokenize\": \"jieba\",\n",
    "            \"strict_check\": True,\n",
    "            \"stopwords\": \"lucene\"\n",
    "        },\n",
    "\n",
    "        # comments are ommitted but good for documenting the process\n",
    "        \"comment\": \"Small CC collection for demo\",\n",
    "    },\n",
    "\n",
    "    # We store the preprocessed documents in a sqlite database\n",
    "    \"database\": {\n",
    "        \"name\": \"sqlite\"\n",
    "    },\n",
    "\n",
    "    # The index of the collection\n",
    "    \"index\": {\n",
    "        \"name\": \"lucene\"\n",
    "    },\n",
    "\n",
    "    # The format of the topic file. We support json(l), xml, SGML(the TREC style) and ir_datasets\n",
    "    \"topics\": {\n",
    "        \"input\": {\n",
    "            \"format\": \"json\",\n",
    "            \"lang\": \"zho\",\n",
    "            \"source\": \"human translation\", # selecting the human translation version\n",
    "            \"encoding\": \"utf8\",\n",
    "            \"path\": \"dev.topics.v1-0.jsonl\"\n",
    "        },\n",
    "\n",
    "        # Here we use the title queries\n",
    "        \"fields\": \"title\"\n",
    "    },\n",
    "\n",
    "    # Query text preprocessing -- we check to make sure this aligns with the document preprocessing\n",
    "    \"queries\": {\n",
    "        \"process\": {\n",
    "            \"normalize\": {\n",
    "                \"lowercase\": True,\n",
    "            },\n",
    "            \"tokenize\": \"jieba\",\n",
    "            \"stopwords\": \"lucene\"\n",
    "        }\n",
    "    },\n",
    "\n",
    "    # Specifying the retrieval model\n",
    "    \"retrieve\": {\n",
    "        \"name\": \"bm25\",\n",
    "        \"number\": 5\n",
    "    },\n",
    "\n",
    "    # Evaluting the run\n",
    "    \"score\": {\n",
    "        \"input\": {\n",
    "            \"path\": \"zho.toy-dev.qrels.v1-0.txt\"\n",
    "        }\n",
    "    }\n",
    "}"
   ]
  },
  {
   "cell_type": "markdown",
   "id": "0f4fcd5f",
   "metadata": {
    "id": "0f4fcd5f"
   },
   "source": [
    "The following cell execute the pipeline. The log is presented in the console and stored in the run dictory as well."
   ]
  },
  {
   "cell_type": "code",
   "execution_count": 8,
   "id": "433e939c",
   "metadata": {
    "scrolled": false,
    "id": "433e939c",
    "outputId": "00817009-0f86-476d-f3d7-ce1712a88584",
    "ExecuteTime": {
     "end_time": "2024-03-07T00:18:04.095478Z",
     "start_time": "2024-03-07T00:17:58.822427Z"
    }
   },
   "outputs": [
    {
     "name": "stderr",
     "output_type": "stream",
     "text": [
      "2024-03-06 19:17:58,824 - patapsco.run - INFO - Patapsco version 1.0.0-dev\n",
      "2024-03-06 19:17:58,826 - patapsco.run - INFO - Writing output to: /home/shengyi/764/CLIR/runs/query-translation\n",
      "2024-03-06 19:17:59,069 - patapsco.job - INFO - Stage 1 is a streaming pipeline.\n",
      "2024-03-06 19:17:59,070 - patapsco.job - INFO - Stage 1 pipeline: Hc4JsonDocumentReader | DocumentProcessor | DatabaseWriter | LuceneIndexer\n",
      "2024-03-06 19:17:59,073 - patapsco.retrieve - INFO - Index location: runs/query-translation/index\n",
      "2024-03-06 19:17:59,074 - patapsco.job - INFO - Stage 2 is a streaming pipeline.\n",
      "2024-03-06 19:17:59,075 - patapsco.job - INFO - Stage 2 pipeline: Hc4JsonTopicReader | TopicProcessor | QueryProcessor | QueryWriter | PyseriniRetriever | JsonResultsWriter | TrecResultsWriter\n",
      "2024-03-06 19:17:59,076 - patapsco.job - INFO - Starting run: query translation\n",
      "2024-03-06 19:17:59,076 - patapsco.job - INFO - Stage 1: Starting processing of documents\n",
      "2024-03-06 19:18:03,984 - patapsco.job - INFO - Stage 1: Ingested 998 documents\n",
      "2024-03-06 19:18:03,985 - patapsco.job - INFO - Stage 1 took 4.9 secs\n",
      "2024-03-06 19:18:03,985 - patapsco.job - INFO - Stage 2: Starting processing of topics\n",
      "2024-03-06 19:18:04,014 - patapsco.retrieve - INFO - Using BM25 with parameters k1=0.9 and b=0.4\n",
      "2024-03-06 19:18:04,079 - patapsco.job - INFO - Stage 2: Processed 2 topics\n",
      "2024-03-06 19:18:04,080 - patapsco.job - INFO - Stage 2 took 0.1 secs\n",
      "2024-03-06 19:18:04,088 - patapsco.score - INFO - Average scores over 2 queries: map: 0.354, ndcg: 0.482, ndcg_prime: 0.482, recall_100: 0.438, recall_1000: 0.438\n",
      "2024-03-06 19:18:04,091 - patapsco.job - INFO - Memory usage: 791.6 MB\n",
      "2024-03-06 19:18:04,092 - patapsco.job - INFO - Run complete\n"
     ]
    }
   ],
   "source": [
    "runner = patapsco.Runner(config_qt)\n",
    "runner.run()"
   ]
  },
  {
   "cell_type": "markdown",
   "id": "c9df2421",
   "metadata": {
    "id": "c9df2421"
   },
   "source": [
    "Everthing is stored in the run directory."
   ]
  },
  {
   "cell_type": "code",
   "execution_count": 9,
   "id": "51472d58",
   "metadata": {
    "id": "51472d58",
    "outputId": "f4fdb928-b35f-4be8-a298-c91116bdd17a",
    "ExecuteTime": {
     "end_time": "2024-03-07T00:18:14.528760Z",
     "start_time": "2024-03-07T00:18:14.405085Z"
    }
   },
   "outputs": [
    {
     "name": "stdout",
     "output_type": "stream",
     "text": [
      "/bin/bash: warning: setlocale: LC_ALL: cannot change locale (en_US.UTF-8)\r\n",
      "config.yml  index\t  processed_queries  retrieve\t timing.json\r\n",
      "database    patapsco.log  results.txt\t     scores.txt\r\n"
     ]
    }
   ],
   "source": [
    "!ls runs/query-translation"
   ]
  },
  {
   "cell_type": "markdown",
   "id": "b51df15c",
   "metadata": {
    "id": "b51df15c"
   },
   "source": [
    "The configuration is dumpped into a YAML file.\n",
    "\n",
    "By executing `patapsco runs/full-run/config.yml`, you would be able to reproduce the exect same run."
   ]
  },
  {
   "cell_type": "code",
   "execution_count": 10,
   "id": "a625f6a0",
   "metadata": {
    "id": "a625f6a0",
    "outputId": "68510c32-f2c6-42c2-d794-4d6141cc60b3",
    "ExecuteTime": {
     "end_time": "2024-03-07T00:18:37.127005Z",
     "start_time": "2024-03-07T00:18:36.996572Z"
    }
   },
   "outputs": [
    {
     "name": "stdout",
     "output_type": "stream",
     "text": [
      "/bin/bash: warning: setlocale: LC_ALL: cannot change locale (en_US.UTF-8)\r\n",
      "database:\r\n",
      "  name: sqlite\r\n",
      "  output: database\r\n",
      "documents:\r\n",
      "  comment: Small CC collection for demo\r\n",
      "  input:\r\n",
      "    encoding: utf8\r\n",
      "    format: json\r\n",
      "    lang: zho\r\n",
      "    path: /home/shengyi/764/CLIR/cc-news-zho-1000.jsonl\r\n",
      "  output: false\r\n",
      "  process:\r\n",
      "    normalize:\r\n",
      "      lowercase: true\r\n",
      "      report: false\r\n",
      "    stem: false\r\n",
      "    stopwords: lucene\r\n",
      "    strict_check: true\r\n",
      "    tokenize: jieba\r\n",
      "index:\r\n",
      "  name: lucene\r\n",
      "  output: index\r\n",
      "queries:\r\n",
      "  output: processed_queries\r\n",
      "  parse: false\r\n",
      "  process:\r\n",
      "    normalize:\r\n",
      "      lowercase: true\r\n",
      "      report: false\r\n",
      "    stem: false\r\n",
      "    stopwords: lucene\r\n",
      "    strict_check: true\r\n",
      "    tokenize: jieba\r\n",
      "retrieve:\r\n",
      "  b: 0.4\r\n",
      "  fb_docs: 10\r\n",
      "  fb_terms: 10\r\n",
      "  input:\r\n",
      "    index:\r\n",
      "      path: index\r\n",
      "  k1: 0.9\r\n",
      "  log_explanations: false\r\n",
      "  log_explanations_cutoff: 10\r\n",
      "  mu: 1000\r\n",
      "  name: bm25\r\n",
      "  number: 5\r\n",
      "  original_query_weight: 0.5\r\n",
      "  output: retrieve\r\n",
      "  parse: false\r\n",
      "  psq: false\r\n",
      "  rm3: false\r\n",
      "  rm3_logging: false\r\n",
      "run:\r\n",
      "  name: query translation\r\n",
      "  path: runs/query-translation\r\n",
      "  results: results.txt\r\n",
      "  stage1:\r\n",
      "    mode: streaming\r\n",
      "    num_jobs: 1\r\n",
      "    progress_interval: 10000\r\n",
      "  stage2:\r\n",
      "    mode: streaming\r\n",
      "    num_jobs: 1\r\n",
      "    progress_interval: 10\r\n",
      "score:\r\n",
      "  input:\r\n",
      "    format: trec\r\n",
      "    path: /home/shengyi/764/CLIR/zho.toy-dev.qrels.v1-0.txt\r\n",
      "  metrics:\r\n",
      "  - ndcg_prime\r\n",
      "  - ndcg\r\n",
      "  - map\r\n",
      "  - recall_100\r\n",
      "  - recall_1000\r\n",
      "topics:\r\n",
      "  fields: title\r\n",
      "  input:\r\n",
      "    encoding: utf8\r\n",
      "    format: json\r\n",
      "    lang: zho\r\n",
      "    path: /home/shengyi/764/CLIR/dev.topics.v1-0.jsonl\r\n",
      "    prefix: false\r\n",
      "    source: human translation\r\n",
      "    strip_non_digits: false\r\n",
      "  output: false\r\n"
     ]
    }
   ],
   "source": [
    "!cat runs/query-translation/config.yml"
   ]
  },
  {
   "cell_type": "code",
   "execution_count": 12,
   "id": "dc0cdb81",
   "metadata": {
    "id": "dc0cdb81",
    "ExecuteTime": {
     "end_time": "2024-03-07T00:19:29.026552Z",
     "start_time": "2024-03-07T00:19:28.901715Z"
    }
   },
   "outputs": [
    {
     "name": "stdout",
     "output_type": "stream",
     "text": [
      "/bin/bash: warning: setlocale: LC_ALL: cannot change locale (en_US.UTF-8)\r\n",
      "map                      \t5\t0.0833\r\n",
      "ndcg                     \t5\t0.1952\r\n",
      "ndcg_prime               \t5\t0.1952\r\n",
      "recall_100               \t5\t0.2500\r\n",
      "recall_1000              \t5\t0.2500\r\n",
      "map                      \t6\t0.6250\r\n",
      "ndcg                     \t6\t0.7694\r\n",
      "ndcg_prime               \t6\t0.7694\r\n",
      "recall_100               \t6\t0.6250\r\n",
      "recall_1000              \t6\t0.6250\r\n",
      "map                      \tall\t0.3542\r\n",
      "ndcg                     \tall\t0.4823\r\n",
      "ndcg_prime               \tall\t0.4823\r\n",
      "recall_100               \tall\t0.4375\r\n",
      "recall_1000              \tall\t0.4375\r\n"
     ]
    }
   ],
   "source": [
    "!cat runs/query-translation/scores.txt"
   ]
  },
  {
   "cell_type": "code",
   "outputs": [
    {
     "name": "stderr",
     "output_type": "stream",
     "text": [
      "2024-03-06 22:04:56,985 - patapsco.run - INFO - Patapsco version 1.0.0-dev\n",
      "2024-03-06 22:04:56,988 - patapsco.run - INFO - Writing output to: /home/shengyi/764/CLIR/runs/query-translation-truecase\n",
      "2024-03-06 22:04:56,993 - patapsco.job - INFO - Stage 1 is a streaming pipeline.\n",
      "2024-03-06 22:04:56,994 - patapsco.job - INFO - Stage 1 pipeline: Hc4JsonDocumentReader | DocumentProcessor | DatabaseWriter | LuceneIndexer\n",
      "2024-03-06 22:04:56,997 - patapsco.retrieve - INFO - Index location: runs/query-translation-truecase/index\n",
      "2024-03-06 22:04:56,998 - patapsco.job - INFO - Stage 2 is a streaming pipeline.\n",
      "2024-03-06 22:04:56,999 - patapsco.job - INFO - Stage 2 pipeline: Hc4JsonTopicReader | TopicProcessor | QueryProcessor | QueryWriter | PyseriniRetriever | JsonResultsWriter | TrecResultsWriter\n",
      "2024-03-06 22:04:59,632 - patapsco.job - INFO - Starting run: query translation truecase\n",
      "2024-03-06 22:04:59,633 - patapsco.job - INFO - Stage 1: Starting processing of documents\n",
      "2024-03-06 22:05:05,117 - patapsco.job - INFO - Stage 1: Ingested 998 documents\n",
      "2024-03-06 22:05:05,118 - patapsco.job - INFO - Stage 1 took 5.5 secs\n",
      "2024-03-06 22:05:05,119 - patapsco.job - INFO - Stage 2: Starting processing of topics\n",
      "2024-03-06 22:05:05,126 - patapsco.retrieve - INFO - Using BM25 with parameters k1=0.9 and b=0.4\n",
      "2024-03-06 22:05:05,143 - patapsco.job - INFO - Stage 2: Processed 2 topics\n",
      "2024-03-06 22:05:05,144 - patapsco.job - INFO - Stage 2 took 0.0 secs\n",
      "2024-03-06 22:05:05,152 - patapsco.score - INFO - Average scores over 2 queries: map: 0.354, ndcg: 0.482, ndcg_prime: 0.482, recall_100: 0.438, recall_1000: 0.438\n",
      "2024-03-06 22:05:05,158 - patapsco.job - INFO - Memory usage: 1.4 GB\n",
      "2024-03-06 22:05:05,159 - patapsco.job - INFO - Run complete\n"
     ]
    }
   ],
   "source": [
    "config_qt_tc = {\n",
    "    # The identifier of the run -- patapsco prevent the same run from executing twice\n",
    "    \"run\": {\n",
    "        \"name\": \"query translation truecase\"\n",
    "    },\n",
    "\n",
    "    # Documents for retrieval\n",
    "    \"documents\": {\n",
    "        # The source of the collection\n",
    "        # To use `ir_datasets`, specify `irds` as the format and the name of the dataset as the path\n",
    "        \"input\": {\n",
    "            \"format\": \"json\",\n",
    "            \"lang\": \"zho\",\n",
    "            \"encoding\": \"utf8\",\n",
    "            \"path\": \"cc-news-zho-1000.jsonl\",\n",
    "        },\n",
    "\n",
    "        # The preprocessing of the documents\n",
    "        \"process\": {\n",
    "            \"normalize\": {\n",
    "                \"lowercase\": False,\n",
    "            },\n",
    "            \"tokenize\": \"jieba\",\n",
    "            \"strict_check\": True,\n",
    "            \"stopwords\": \"lucene\"\n",
    "        },\n",
    "\n",
    "        # comments are ommitted but good for documenting the process\n",
    "        \"comment\": \"Small CC collection for demo\",\n",
    "    },\n",
    "\n",
    "    # We store the preprocessed documents in a sqlite database\n",
    "    \"database\": {\n",
    "        \"name\": \"sqlite\"\n",
    "    },\n",
    "\n",
    "    # The index of the collection\n",
    "    \"index\": {\n",
    "        \"name\": \"lucene\"\n",
    "    },\n",
    "\n",
    "    # The format of the topic file. We support json(l), xml, SGML(the TREC style) and ir_datasets\n",
    "    \"topics\": {\n",
    "        \"input\": {\n",
    "            \"format\": \"json\",\n",
    "            \"lang\": \"zho\",\n",
    "            \"source\": \"human translation\", # selecting the human translation version\n",
    "            \"encoding\": \"utf8\",\n",
    "            \"path\": \"dev.topics.v1-0.jsonl\"\n",
    "        },\n",
    "\n",
    "        # Here we use the title queries\n",
    "        \"fields\": \"title\"\n",
    "    },\n",
    "\n",
    "    # Query text preprocessing -- we check to make sure this aligns with the document preprocessing\n",
    "    \"queries\": {\n",
    "        \"process\": {\n",
    "            \"normalize\": {\n",
    "                \"lowercase\": False,\n",
    "            },\n",
    "            \"tokenize\": \"jieba\",\n",
    "            \"stopwords\": \"lucene\"\n",
    "        }\n",
    "    },\n",
    "\n",
    "    # Specifying the retrieval model\n",
    "    \"retrieve\": {\n",
    "        \"name\": \"bm25\",\n",
    "        \"number\": 5\n",
    "    },\n",
    "\n",
    "    # Evaluting the run\n",
    "    \"score\": {\n",
    "        \"input\": {\n",
    "            \"path\": \"zho.toy-dev.qrels.v1-0.txt\"\n",
    "        }\n",
    "    }\n",
    "}\n",
    "\n",
    "runner = patapsco.Runner(config_qt_tc)\n",
    "runner.run()"
   ],
   "metadata": {
    "collapsed": false,
    "ExecuteTime": {
     "end_time": "2024-03-07T03:05:05.161174Z",
     "start_time": "2024-03-07T03:04:56.982095Z"
    }
   },
   "id": "f02e2b870726fecc",
   "execution_count": 17
  },
  {
   "cell_type": "code",
   "outputs": [
    {
     "name": "stdout",
     "output_type": "stream",
     "text": [
      "/bin/bash: warning: setlocale: LC_ALL: cannot change locale (en_US.UTF-8)\r\n",
      "database:\r\n",
      "  name: sqlite\r\n",
      "  output: database\r\n",
      "documents:\r\n",
      "  comment: Small CC collection for demo\r\n",
      "  input:\r\n",
      "    encoding: utf8\r\n",
      "    format: json\r\n",
      "    lang: zho\r\n",
      "    path: /home/shengyi/764/CLIR/cc-news-zho-1000.jsonl\r\n",
      "  output: false\r\n",
      "  process:\r\n",
      "    normalize:\r\n",
      "      lowercase: false\r\n",
      "      report: false\r\n",
      "    stem: false\r\n",
      "    stopwords: lucene\r\n",
      "    strict_check: true\r\n",
      "    tokenize: jieba\r\n",
      "index:\r\n",
      "  name: lucene\r\n",
      "  output: index\r\n",
      "queries:\r\n",
      "  output: processed_queries\r\n",
      "  parse: false\r\n",
      "  process:\r\n",
      "    normalize:\r\n",
      "      lowercase: false\r\n",
      "      report: false\r\n",
      "    stem: false\r\n",
      "    stopwords: lucene\r\n",
      "    strict_check: true\r\n",
      "    tokenize: jieba\r\n",
      "retrieve:\r\n",
      "  b: 0.4\r\n",
      "  fb_docs: 10\r\n",
      "  fb_terms: 10\r\n",
      "  input:\r\n",
      "    index:\r\n",
      "      path: index\r\n",
      "  k1: 0.9\r\n",
      "  log_explanations: false\r\n",
      "  log_explanations_cutoff: 10\r\n",
      "  mu: 1000\r\n",
      "  name: bm25\r\n",
      "  number: 5\r\n",
      "  original_query_weight: 0.5\r\n",
      "  output: retrieve\r\n",
      "  parse: false\r\n",
      "  psq: false\r\n",
      "  rm3: false\r\n",
      "  rm3_logging: false\r\n",
      "run:\r\n",
      "  name: query translation truecase\r\n",
      "  path: runs/query-translation-truecase\r\n",
      "  results: results.txt\r\n",
      "  stage1:\r\n",
      "    mode: streaming\r\n",
      "    num_jobs: 1\r\n",
      "    progress_interval: 10000\r\n",
      "  stage2:\r\n",
      "    mode: streaming\r\n",
      "    num_jobs: 1\r\n",
      "    progress_interval: 10\r\n",
      "score:\r\n",
      "  input:\r\n",
      "    format: trec\r\n",
      "    path: /home/shengyi/764/CLIR/zho.toy-dev.qrels.v1-0.txt\r\n",
      "  metrics:\r\n",
      "  - ndcg_prime\r\n",
      "  - ndcg\r\n",
      "  - map\r\n",
      "  - recall_100\r\n",
      "  - recall_1000\r\n",
      "topics:\r\n",
      "  fields: title\r\n",
      "  input:\r\n",
      "    encoding: utf8\r\n",
      "    format: json\r\n",
      "    lang: zho\r\n",
      "    path: /home/shengyi/764/CLIR/dev.topics.v1-0.jsonl\r\n",
      "    prefix: false\r\n",
      "    source: human translation\r\n",
      "    strip_non_digits: false\r\n",
      "  output: false\r\n"
     ]
    }
   ],
   "source": [
    "!cat runs/query-translation-truecase/config.yml"
   ],
   "metadata": {
    "collapsed": false,
    "ExecuteTime": {
     "end_time": "2024-03-07T03:06:16.003050Z",
     "start_time": "2024-03-07T03:06:15.845975Z"
    }
   },
   "id": "fb00ba82c4f9b74c",
   "execution_count": 18
  },
  {
   "cell_type": "code",
   "outputs": [
    {
     "name": "stdout",
     "output_type": "stream",
     "text": [
      "/bin/bash: warning: setlocale: LC_ALL: cannot change locale (en_US.UTF-8)\r\n",
      "map                      \t5\t0.0833\r\n",
      "ndcg                     \t5\t0.1952\r\n",
      "ndcg_prime               \t5\t0.1952\r\n",
      "recall_100               \t5\t0.2500\r\n",
      "recall_1000              \t5\t0.2500\r\n",
      "map                      \t6\t0.6250\r\n",
      "ndcg                     \t6\t0.7694\r\n",
      "ndcg_prime               \t6\t0.7694\r\n",
      "recall_100               \t6\t0.6250\r\n",
      "recall_1000              \t6\t0.6250\r\n",
      "map                      \tall\t0.3542\r\n",
      "ndcg                     \tall\t0.4823\r\n",
      "ndcg_prime               \tall\t0.4823\r\n",
      "recall_100               \tall\t0.4375\r\n",
      "recall_1000              \tall\t0.4375\r\n"
     ]
    }
   ],
   "source": [
    "!cat runs/query-translation-truecase/scores.txt"
   ],
   "metadata": {
    "collapsed": false,
    "ExecuteTime": {
     "end_time": "2024-03-07T03:06:17.595815Z",
     "start_time": "2024-03-07T03:06:17.449236Z"
    }
   },
   "id": "6efeca9f1255b76a",
   "execution_count": 19
  },
  {
   "cell_type": "code",
   "outputs": [
    {
     "name": "stderr",
     "output_type": "stream",
     "text": [
      "2024-03-06 22:07:18,712 - patapsco.run - INFO - Patapsco version 1.0.0-dev\n",
      "2024-03-06 22:07:18,716 - patapsco.run - INFO - Writing output to: /home/shengyi/764/CLIR/runs/query-translation-stanza\n",
      "2024-03-06 22:07:18,723 - patapsco.job - INFO - Stage 1 is a streaming pipeline.\n",
      "2024-03-06 22:07:18,725 - patapsco.job - INFO - Stage 1 pipeline: Hc4JsonDocumentReader | DocumentProcessor | DatabaseWriter | LuceneIndexer\n",
      "2024-03-06 22:07:18,728 - patapsco.retrieve - INFO - Index location: runs/query-translation-stanza/index\n",
      "2024-03-06 22:07:18,729 - patapsco.job - INFO - Stage 2 is a streaming pipeline.\n",
      "2024-03-06 22:07:18,730 - patapsco.job - INFO - Stage 2 pipeline: Hc4JsonTopicReader | TopicProcessor | QueryProcessor | QueryWriter | PyseriniRetriever | JsonResultsWriter | TrecResultsWriter\n",
      "2024-03-06 22:07:18,732 - patapsco.job - INFO - Starting run: query translation stanza\n",
      "2024-03-06 22:07:18,734 - patapsco.job - INFO - Stage 1: Starting processing of documents\n",
      "2024-03-06 22:07:18,783 - stanza - INFO - Checking for updates to resources.json in case models have been updated.  Note: this behavior can be turned off with download_method=None or download_method=DownloadMethod.REUSE_RESOURCES\n"
     ]
    },
    {
     "data": {
      "text/plain": "Downloading https://raw.githubusercontent.com/stanfordnlp/stanza-resources/main/resources_1.8.0.json:   0%|   …",
      "application/vnd.jupyter.widget-view+json": {
       "version_major": 2,
       "version_minor": 0,
       "model_id": "dfff0a05e1f7496196de32517b25ec18"
      }
     },
     "metadata": {},
     "output_type": "display_data"
    },
    {
     "name": "stderr",
     "output_type": "stream",
     "text": [
      "2024-03-06 22:07:19,077 - stanza - INFO - Downloaded file to /home/shengyi/stanza_resources/resources.json\n",
      "2024-03-06 22:07:19,093 - stanza - INFO - Loading these models for language: zh-hans (Simplified_Chinese): | tokenize  | gsdsimp |\n",
      "2024-03-06 22:07:19,095 - stanza - INFO - Using device: cuda\n",
      "2024-03-06 22:07:19,096 - stanza - INFO - Loading: tokenize\n",
      "2024-03-06 22:07:20,774 - stanza - INFO - Done loading processors!\n",
      "2024-03-06 22:07:49,035 - patapsco.job - INFO - Stage 1: Ingested 998 documents\n",
      "2024-03-06 22:07:49,036 - patapsco.job - INFO - Stage 1 took 30.3 secs\n",
      "2024-03-06 22:07:49,038 - patapsco.job - INFO - Stage 2: Starting processing of topics\n",
      "2024-03-06 22:07:49,073 - patapsco.retrieve - INFO - Using BM25 with parameters k1=0.9 and b=0.4\n",
      "2024-03-06 22:07:49,094 - patapsco.job - INFO - Stage 2: Processed 2 topics\n",
      "2024-03-06 22:07:49,096 - patapsco.job - INFO - Stage 2 took 0.1 secs\n",
      "2024-03-06 22:07:49,104 - patapsco.score - INFO - Average scores over 2 queries: map: 0.362, ndcg: 0.556, ndcg_prime: 0.563, recall_100: 0.375, recall_1000: 0.375\n",
      "2024-03-06 22:07:49,110 - patapsco.job - INFO - Memory usage: 1.6 GB\n",
      "2024-03-06 22:07:49,111 - patapsco.job - INFO - Run complete\n"
     ]
    }
   ],
   "source": [
    "config_qt_stanza = {\n",
    "    # The identifier of the run -- patapsco prevent the same run from executing twice\n",
    "    \"run\": {\n",
    "        \"name\": \"query translation stanza\"\n",
    "    },\n",
    "\n",
    "    # Documents for retrieval\n",
    "    \"documents\": {\n",
    "        # The source of the collection\n",
    "        # To use `ir_datasets`, specify `irds` as the format and the name of the dataset as the path\n",
    "        \"input\": {\n",
    "            \"format\": \"json\",\n",
    "            \"lang\": \"zho\",\n",
    "            \"encoding\": \"utf8\",\n",
    "            \"path\": \"cc-news-zho-1000.jsonl\",\n",
    "        },\n",
    "\n",
    "        # The preprocessing of the documents\n",
    "        \"process\": {\n",
    "            \"normalize\": {\n",
    "                \"lowercase\": False,\n",
    "            },\n",
    "            \"tokenize\": \"stanza\",\n",
    "            \"strict_check\": True,\n",
    "            \"stopwords\": \"lucene\"\n",
    "        },\n",
    "\n",
    "        # comments are ommitted but good for documenting the process\n",
    "        \"comment\": \"Small CC collection for demo\",\n",
    "    },\n",
    "\n",
    "    # We store the preprocessed documents in a sqlite database\n",
    "    \"database\": {\n",
    "        \"name\": \"sqlite\"\n",
    "    },\n",
    "\n",
    "    # The index of the collection\n",
    "    \"index\": {\n",
    "        \"name\": \"lucene\"\n",
    "    },\n",
    "\n",
    "    # The format of the topic file. We support json(l), xml, SGML(the TREC style) and ir_datasets\n",
    "    \"topics\": {\n",
    "        \"input\": {\n",
    "            \"format\": \"json\",\n",
    "            \"lang\": \"zho\",\n",
    "            \"source\": \"human translation\", # selecting the human translation version\n",
    "            \"encoding\": \"utf8\",\n",
    "            \"path\": \"dev.topics.v1-0.jsonl\"\n",
    "        },\n",
    "\n",
    "        # Here we use the title queries\n",
    "        \"fields\": \"title\"\n",
    "    },\n",
    "\n",
    "    # Query text preprocessing -- we check to make sure this aligns with the document preprocessing\n",
    "    \"queries\": {\n",
    "        \"process\": {\n",
    "            \"normalize\": {\n",
    "                \"lowercase\": False,\n",
    "            },\n",
    "            \"tokenize\": \"stanza\",\n",
    "            \"stopwords\": \"lucene\"\n",
    "        }\n",
    "    },\n",
    "\n",
    "    # Specifying the retrieval model\n",
    "    \"retrieve\": {\n",
    "        \"name\": \"bm25\",\n",
    "        \"number\": 5\n",
    "    },\n",
    "\n",
    "    # Evaluting the run\n",
    "    \"score\": {\n",
    "        \"input\": {\n",
    "            \"path\": \"zho.toy-dev.qrels.v1-0.txt\"\n",
    "        }\n",
    "    }\n",
    "}\n",
    "\n",
    "runner = patapsco.Runner(config_qt_stanza)\n",
    "runner.run()"
   ],
   "metadata": {
    "collapsed": false,
    "ExecuteTime": {
     "end_time": "2024-03-07T03:07:49.114932Z",
     "start_time": "2024-03-07T03:07:18.707029Z"
    }
   },
   "id": "d003133b8e1b31f4",
   "execution_count": 20
  },
  {
   "cell_type": "code",
   "outputs": [
    {
     "name": "stdout",
     "output_type": "stream",
     "text": [
      "/bin/bash: warning: setlocale: LC_ALL: cannot change locale (en_US.UTF-8)\r\n",
      "database:\r\n",
      "  name: sqlite\r\n",
      "  output: database\r\n",
      "documents:\r\n",
      "  comment: Small CC collection for demo\r\n",
      "  input:\r\n",
      "    encoding: utf8\r\n",
      "    format: json\r\n",
      "    lang: zho\r\n",
      "    path: /home/shengyi/764/CLIR/cc-news-zho-1000.jsonl\r\n",
      "  output: false\r\n",
      "  process:\r\n",
      "    normalize:\r\n",
      "      lowercase: false\r\n",
      "      report: false\r\n",
      "    stem: false\r\n",
      "    stopwords: lucene\r\n",
      "    strict_check: true\r\n",
      "    tokenize: stanza\r\n",
      "index:\r\n",
      "  name: lucene\r\n",
      "  output: index\r\n",
      "queries:\r\n",
      "  output: processed_queries\r\n",
      "  parse: false\r\n",
      "  process:\r\n",
      "    normalize:\r\n",
      "      lowercase: false\r\n",
      "      report: false\r\n",
      "    stem: false\r\n",
      "    stopwords: lucene\r\n",
      "    strict_check: true\r\n",
      "    tokenize: stanza\r\n",
      "retrieve:\r\n",
      "  b: 0.4\r\n",
      "  fb_docs: 10\r\n",
      "  fb_terms: 10\r\n",
      "  input:\r\n",
      "    index:\r\n",
      "      path: index\r\n",
      "  k1: 0.9\r\n",
      "  log_explanations: false\r\n",
      "  log_explanations_cutoff: 10\r\n",
      "  mu: 1000\r\n",
      "  name: bm25\r\n",
      "  number: 5\r\n",
      "  original_query_weight: 0.5\r\n",
      "  output: retrieve\r\n",
      "  parse: false\r\n",
      "  psq: false\r\n",
      "  rm3: false\r\n",
      "  rm3_logging: false\r\n",
      "run:\r\n",
      "  name: query translation stanza\r\n",
      "  path: runs/query-translation-stanza\r\n",
      "  results: results.txt\r\n",
      "  stage1:\r\n",
      "    mode: streaming\r\n",
      "    num_jobs: 1\r\n",
      "    progress_interval: 10000\r\n",
      "  stage2:\r\n",
      "    mode: streaming\r\n",
      "    num_jobs: 1\r\n",
      "    progress_interval: 10\r\n",
      "score:\r\n",
      "  input:\r\n",
      "    format: trec\r\n",
      "    path: /home/shengyi/764/CLIR/zho.toy-dev.qrels.v1-0.txt\r\n",
      "  metrics:\r\n",
      "  - ndcg_prime\r\n",
      "  - ndcg\r\n",
      "  - map\r\n",
      "  - recall_100\r\n",
      "  - recall_1000\r\n",
      "topics:\r\n",
      "  fields: title\r\n",
      "  input:\r\n",
      "    encoding: utf8\r\n",
      "    format: json\r\n",
      "    lang: zho\r\n",
      "    path: /home/shengyi/764/CLIR/dev.topics.v1-0.jsonl\r\n",
      "    prefix: false\r\n",
      "    source: human translation\r\n",
      "    strip_non_digits: false\r\n",
      "  output: false\r\n"
     ]
    }
   ],
   "source": [
    "!cat runs/query-translation-stanza/config.yml"
   ],
   "metadata": {
    "collapsed": false,
    "ExecuteTime": {
     "end_time": "2024-03-07T03:10:13.039811Z",
     "start_time": "2024-03-07T03:10:12.902346Z"
    }
   },
   "id": "8d5c4785402caa97",
   "execution_count": 21
  },
  {
   "cell_type": "code",
   "outputs": [
    {
     "name": "stdout",
     "output_type": "stream",
     "text": [
      "/bin/bash: warning: setlocale: LC_ALL: cannot change locale (en_US.UTF-8)\r\n",
      "map                      \t5\t0.2500\r\n",
      "ndcg                     \t5\t0.3904\r\n",
      "ndcg_prime               \t5\t0.3904\r\n",
      "recall_100               \t5\t0.2500\r\n",
      "recall_1000              \t5\t0.2500\r\n",
      "map                      \t6\t0.4750\r\n",
      "ndcg                     \t6\t0.7220\r\n",
      "ndcg_prime               \t6\t0.7365\r\n",
      "recall_100               \t6\t0.5000\r\n",
      "recall_1000              \t6\t0.5000\r\n",
      "map                      \tall\t0.3625\r\n",
      "ndcg                     \tall\t0.5562\r\n",
      "ndcg_prime               \tall\t0.5634\r\n",
      "recall_100               \tall\t0.3750\r\n",
      "recall_1000              \tall\t0.3750\r\n"
     ]
    }
   ],
   "source": [
    "!cat runs/query-translation-stanza/scores.txt"
   ],
   "metadata": {
    "collapsed": false,
    "ExecuteTime": {
     "end_time": "2024-03-07T03:10:15.487193Z",
     "start_time": "2024-03-07T03:10:15.340699Z"
    }
   },
   "id": "563a5ae31250ed2",
   "execution_count": 22
  },
  {
   "cell_type": "markdown",
   "id": "c985bac9",
   "metadata": {
    "id": "c985bac9"
   },
   "source": [
    "## Running Probabilistic Structured Query (PSQ)"
   ]
  },
  {
   "cell_type": "markdown",
   "id": "60c89c40",
   "metadata": {
    "id": "60c89c40"
   },
   "source": [
    "PSQ is one of the most common CLIR approaches that leverages the translation table from statistical machine translation models.\n",
    "\n",
    "Patpasco also supports it natively. For this demo, we provide a Chinese-English translation table."
   ]
  },
  {
   "cell_type": "markdown",
   "id": "27a4668f",
   "metadata": {
    "id": "27a4668f"
   },
   "source": [
    "Besides running everything from scratch, patapsco has the ability to use components from existing runs.\n",
    "\n",
    "Here, we use the index built in the query translation run and rerun the experment from retrieval.\n",
    "This allows better reproduciblity and efficient ablation studies."
   ]
  },
  {
   "cell_type": "code",
   "execution_count": 13,
   "id": "6a149207",
   "metadata": {
    "id": "6a149207",
    "outputId": "6cd7ba6f-d0cf-448b-e6cd-d537cfaf7a11",
    "ExecuteTime": {
     "end_time": "2024-03-07T00:36:51.740062Z",
     "start_time": "2024-03-07T00:36:34.903758Z"
    }
   },
   "outputs": [
    {
     "name": "stderr",
     "output_type": "stream",
     "text": [
      "2024-03-06 19:36:34,906 - patapsco.run - INFO - Patapsco version 1.0.0-dev\n",
      "2024-03-06 19:36:34,911 - patapsco.run - INFO - Writing output to: /home/shengyi/764/CLIR/runs/PSQ\n",
      "2024-03-06 19:36:34,917 - patapsco.retrieve - INFO - Index location: /home/shengyi/764/CLIR/runs/query-translation/index\n",
      "2024-03-06 19:36:34,919 - patapsco.job - INFO - Stage 2 is a streaming pipeline.\n",
      "2024-03-06 19:36:34,920 - patapsco.job - INFO - Stage 2 pipeline: Hc4JsonTopicReader | TopicProcessor | QueryProcessor | QueryWriter | PyseriniRetriever | JsonResultsWriter | TrecResultsWriter\n",
      "2024-03-06 19:36:34,921 - patapsco.job - INFO - Starting run: PSQ\n",
      "2024-03-06 19:36:34,923 - patapsco.job - INFO - Stage 2: Starting processing of topics\n",
      "2024-03-06 19:36:35,987 - patapsco.text - INFO - Downloading the xx spacy model. This may take a few minutes...\n"
     ]
    },
    {
     "name": "stdout",
     "output_type": "stream",
     "text": [
      "Defaulting to user installation because normal site-packages is not writeable\n",
      "Collecting xx-sent-ud-sm==3.7.0\n",
      "  Downloading https://github.com/explosion/spacy-models/releases/download/xx_sent_ud_sm-3.7.0/xx_sent_ud_sm-3.7.0-py3-none-any.whl (4.3 MB)\n",
      "\u001B[2K     \u001B[90m━━━━━━━━━━━━━━━━━━━━━━━━━━━━━━━━━━━━━━━━\u001B[0m \u001B[32m4.3/4.3 MB\u001B[0m \u001B[31m26.0 MB/s\u001B[0m eta \u001B[36m0:00:00\u001B[0m00:01\u001B[0m00:01\u001B[0m\n",
      "\u001B[?25hRequirement already satisfied: spacy<3.8.0,>=3.7.0 in /home/shengyi/.local/lib/python3.10/site-packages (from xx-sent-ud-sm==3.7.0) (3.7.4)\n",
      "Requirement already satisfied: spacy-legacy<3.1.0,>=3.0.11 in /home/shengyi/.local/lib/python3.10/site-packages (from spacy<3.8.0,>=3.7.0->xx-sent-ud-sm==3.7.0) (3.0.12)\n",
      "Requirement already satisfied: spacy-loggers<2.0.0,>=1.0.0 in /home/shengyi/.local/lib/python3.10/site-packages (from spacy<3.8.0,>=3.7.0->xx-sent-ud-sm==3.7.0) (1.0.5)\n",
      "Requirement already satisfied: murmurhash<1.1.0,>=0.28.0 in /home/shengyi/.local/lib/python3.10/site-packages (from spacy<3.8.0,>=3.7.0->xx-sent-ud-sm==3.7.0) (1.0.10)\n",
      "Requirement already satisfied: cymem<2.1.0,>=2.0.2 in /home/shengyi/.local/lib/python3.10/site-packages (from spacy<3.8.0,>=3.7.0->xx-sent-ud-sm==3.7.0) (2.0.8)\n",
      "Requirement already satisfied: preshed<3.1.0,>=3.0.2 in /home/shengyi/.local/lib/python3.10/site-packages (from spacy<3.8.0,>=3.7.0->xx-sent-ud-sm==3.7.0) (3.0.9)\n",
      "Requirement already satisfied: thinc<8.3.0,>=8.2.2 in /home/shengyi/.local/lib/python3.10/site-packages (from spacy<3.8.0,>=3.7.0->xx-sent-ud-sm==3.7.0) (8.2.3)\n",
      "Requirement already satisfied: wasabi<1.2.0,>=0.9.1 in /home/shengyi/.local/lib/python3.10/site-packages (from spacy<3.8.0,>=3.7.0->xx-sent-ud-sm==3.7.0) (1.1.2)\n",
      "Requirement already satisfied: srsly<3.0.0,>=2.4.3 in /home/shengyi/.local/lib/python3.10/site-packages (from spacy<3.8.0,>=3.7.0->xx-sent-ud-sm==3.7.0) (2.4.8)\n",
      "Requirement already satisfied: catalogue<2.1.0,>=2.0.6 in /home/shengyi/.local/lib/python3.10/site-packages (from spacy<3.8.0,>=3.7.0->xx-sent-ud-sm==3.7.0) (2.0.10)\n",
      "Requirement already satisfied: weasel<0.4.0,>=0.1.0 in /home/shengyi/.local/lib/python3.10/site-packages (from spacy<3.8.0,>=3.7.0->xx-sent-ud-sm==3.7.0) (0.3.4)\n",
      "Requirement already satisfied: typer<0.10.0,>=0.3.0 in /home/shengyi/.local/lib/python3.10/site-packages (from spacy<3.8.0,>=3.7.0->xx-sent-ud-sm==3.7.0) (0.9.0)\n",
      "Requirement already satisfied: smart-open<7.0.0,>=5.2.1 in /home/shengyi/.local/lib/python3.10/site-packages (from spacy<3.8.0,>=3.7.0->xx-sent-ud-sm==3.7.0) (6.4.0)\n",
      "Requirement already satisfied: tqdm<5.0.0,>=4.38.0 in /home/shengyi/.local/lib/python3.10/site-packages (from spacy<3.8.0,>=3.7.0->xx-sent-ud-sm==3.7.0) (4.66.1)\n",
      "Requirement already satisfied: requests<3.0.0,>=2.13.0 in /home/shengyi/.local/lib/python3.10/site-packages (from spacy<3.8.0,>=3.7.0->xx-sent-ud-sm==3.7.0) (2.31.0)\n",
      "Requirement already satisfied: pydantic!=1.8,!=1.8.1,<3.0.0,>=1.7.4 in /home/shengyi/.local/lib/python3.10/site-packages (from spacy<3.8.0,>=3.7.0->xx-sent-ud-sm==3.7.0) (1.7.4)\n",
      "Requirement already satisfied: jinja2 in /home/shengyi/.local/lib/python3.10/site-packages (from spacy<3.8.0,>=3.7.0->xx-sent-ud-sm==3.7.0) (3.1.2)\n",
      "Requirement already satisfied: setuptools in /home/shengyi/.local/lib/python3.10/site-packages (from spacy<3.8.0,>=3.7.0->xx-sent-ud-sm==3.7.0) (68.2.2)\n",
      "Requirement already satisfied: packaging>=20.0 in /home/shengyi/.local/lib/python3.10/site-packages (from spacy<3.8.0,>=3.7.0->xx-sent-ud-sm==3.7.0) (23.2)\n",
      "Requirement already satisfied: langcodes<4.0.0,>=3.2.0 in /home/shengyi/.local/lib/python3.10/site-packages (from spacy<3.8.0,>=3.7.0->xx-sent-ud-sm==3.7.0) (3.3.0)\n",
      "Requirement already satisfied: numpy>=1.19.0 in /home/shengyi/.local/lib/python3.10/site-packages (from spacy<3.8.0,>=3.7.0->xx-sent-ud-sm==3.7.0) (1.26.0)\n",
      "Requirement already satisfied: charset-normalizer<4,>=2 in /home/shengyi/.local/lib/python3.10/site-packages (from requests<3.0.0,>=2.13.0->spacy<3.8.0,>=3.7.0->xx-sent-ud-sm==3.7.0) (3.3.0)\n",
      "Requirement already satisfied: idna<4,>=2.5 in /home/shengyi/.local/lib/python3.10/site-packages (from requests<3.0.0,>=2.13.0->spacy<3.8.0,>=3.7.0->xx-sent-ud-sm==3.7.0) (3.4)\n",
      "Requirement already satisfied: urllib3<3,>=1.21.1 in /home/shengyi/.local/lib/python3.10/site-packages (from requests<3.0.0,>=2.13.0->spacy<3.8.0,>=3.7.0->xx-sent-ud-sm==3.7.0) (2.0.6)\n",
      "Requirement already satisfied: certifi>=2017.4.17 in /home/shengyi/.local/lib/python3.10/site-packages (from requests<3.0.0,>=2.13.0->spacy<3.8.0,>=3.7.0->xx-sent-ud-sm==3.7.0) (2023.7.22)\n",
      "Requirement already satisfied: blis<0.8.0,>=0.7.8 in /home/shengyi/.local/lib/python3.10/site-packages (from thinc<8.3.0,>=8.2.2->spacy<3.8.0,>=3.7.0->xx-sent-ud-sm==3.7.0) (0.7.11)\n",
      "Requirement already satisfied: confection<1.0.0,>=0.0.1 in /home/shengyi/.local/lib/python3.10/site-packages (from thinc<8.3.0,>=8.2.2->spacy<3.8.0,>=3.7.0->xx-sent-ud-sm==3.7.0) (0.1.4)\n",
      "Requirement already satisfied: click<9.0.0,>=7.1.1 in /home/shengyi/.local/lib/python3.10/site-packages (from typer<0.10.0,>=0.3.0->spacy<3.8.0,>=3.7.0->xx-sent-ud-sm==3.7.0) (8.1.7)\n",
      "Requirement already satisfied: typing-extensions>=3.7.4.3 in /home/shengyi/.local/lib/python3.10/site-packages (from typer<0.10.0,>=0.3.0->spacy<3.8.0,>=3.7.0->xx-sent-ud-sm==3.7.0) (4.8.0)\n",
      "Requirement already satisfied: cloudpathlib<0.17.0,>=0.7.0 in /home/shengyi/.local/lib/python3.10/site-packages (from weasel<0.4.0,>=0.1.0->spacy<3.8.0,>=3.7.0->xx-sent-ud-sm==3.7.0) (0.16.0)\n",
      "Requirement already satisfied: MarkupSafe>=2.0 in /home/shengyi/.local/lib/python3.10/site-packages (from jinja2->spacy<3.8.0,>=3.7.0->xx-sent-ud-sm==3.7.0) (2.1.3)\n"
     ]
    },
    {
     "name": "stderr",
     "output_type": "stream",
     "text": [
      "\u001B[33mDEPRECATION: pytorch-lightning 1.7.7 has a non-standard dependency specifier torch>=1.9.*. pip 23.3 will enforce this behaviour change. A possible replacement is to upgrade to a newer version of pytorch-lightning or contact the author to suggest that they release a version with a conforming dependency specifiers. Discussion can be found at https://github.com/pypa/pip/issues/12063\u001B[0m\u001B[33m\n",
      "\u001B[0m"
     ]
    },
    {
     "name": "stdout",
     "output_type": "stream",
     "text": [
      "Installing collected packages: xx-sent-ud-sm\n",
      "Successfully installed xx-sent-ud-sm-3.7.0\n"
     ]
    },
    {
     "name": "stderr",
     "output_type": "stream",
     "text": [
      "\n",
      "\u001B[1m[\u001B[0m\u001B[34;49mnotice\u001B[0m\u001B[1;39;49m]\u001B[0m\u001B[39;49m A new release of pip is available: \u001B[0m\u001B[31;49m23.2.1\u001B[0m\u001B[39;49m -> \u001B[0m\u001B[32;49m24.0\u001B[0m\n",
      "\u001B[1m[\u001B[0m\u001B[34;49mnotice\u001B[0m\u001B[1;39;49m]\u001B[0m\u001B[39;49m To update, run: \u001B[0m\u001B[32;49mpython3 -m pip install --upgrade pip\u001B[0m\n",
      "2024-03-06 19:36:39,216 - patapsco.text - INFO - Loading the xx spacy model\n"
     ]
    },
    {
     "name": "stdout",
     "output_type": "stream",
     "text": [
      "\u001B[38;5;2m✔ Download and installation successful\u001B[0m\n",
      "You can now load the package via spacy.load('xx_sent_ud_sm')\n",
      "\u001B[38;5;3m⚠ Restart to reload dependencies\u001B[0m\n",
      "If you are in a Jupyter or Colab notebook, you may need to restart Python in\n",
      "order to load all the package's dependencies. You can do this by selecting the\n",
      "'Restart kernel' or 'Restart runtime' option.\n"
     ]
    },
    {
     "name": "stderr",
     "output_type": "stream",
     "text": [
      "2024-03-06 19:36:51,648 - patapsco.retrieve - INFO - Using PSQ\n",
      "2024-03-06 19:36:51,650 - patapsco.retrieve - INFO - Using BM25 with parameters k1=0.9 and b=0.4\n",
      "2024-03-06 19:36:51,723 - patapsco.job - INFO - Stage 2: Processed 2 topics\n",
      "2024-03-06 19:36:51,724 - patapsco.job - INFO - Stage 2 took 16.8 secs\n",
      "2024-03-06 19:36:51,732 - patapsco.score - INFO - Average scores over 2 queries: map: 0.774, ndcg: 0.845, ndcg_prime: 0.853, recall_100: 1.000, recall_1000: 1.000\n",
      "2024-03-06 19:36:51,734 - patapsco.job - INFO - Memory usage: 1.6 GB\n",
      "2024-03-06 19:36:51,736 - patapsco.job - INFO - Run complete\n"
     ]
    }
   ],
   "source": [
    "config_psq = {\n",
    "    \"run\": {\n",
    "        \"name\": \"PSQ\"\n",
    "    },\n",
    "\n",
    "    # Now we select the original English queries (and working on topics that are supported for Chinese)\n",
    "    \"topics\": {\n",
    "        \"input\": {\n",
    "            \"format\": \"json\",\n",
    "            \"lang\": \"eng\",\n",
    "            \"qrels_lang\": \"zho\",\n",
    "            \"source\": \"original\",\n",
    "            \"encoding\": \"utf8\",\n",
    "            \"path\": \"dev.topics.v1-0.jsonl\"\n",
    "        },\n",
    "        \"fields\": \"title\"\n",
    "    },\n",
    "\n",
    "    # Query text preprocessing for PSQ\n",
    "    \"queries\": {\n",
    "        \"output\": \"processed_queries\",\n",
    "        \"parse\": False,\n",
    "        \"process\": {\n",
    "            \"normalize\": {\n",
    "                \"lowercase\": True,\n",
    "                \"report\": False\n",
    "            },\n",
    "            \"stem\": False,\n",
    "            \"stopwords\": \"lucene\",\n",
    "            \"strict_check\": False,\n",
    "            \"tokenize\": \"moses\"\n",
    "        },\n",
    "        \"psq\": {\n",
    "            \"lang\": \"eng\",\n",
    "            \"normalize\": {\n",
    "                \"lowercase\": True,\n",
    "                \"report\": False\n",
    "            },\n",
    "            \"path\": \"zho_eng_clean_reduced_pdt.dict\",\n",
    "            \"stem\": False,\n",
    "            \"stopwords\": \"lucene\",\n",
    "            \"threshold\": 0.97\n",
    "        }\n",
    "    },\n",
    "\n",
    "    \"retrieve\": {\n",
    "        \"input\": {\n",
    "            \"index\": {\n",
    "                # Use the index from the previous run\n",
    "                \"path\": \"runs/query-translation/index\"\n",
    "            }\n",
    "        },\n",
    "        \"name\": \"bm25\",\n",
    "        \"number\": 1000,\n",
    "        \"psq\": True # Use PSQ\n",
    "    },\n",
    "\n",
    "    # Evaluting the run\n",
    "    \"score\": {\n",
    "        \"input\": {\n",
    "            \"path\": \"zho.toy-dev.qrels.v1-0.txt\"\n",
    "        }\n",
    "    }\n",
    "}\n",
    "\n",
    "runner = patapsco.Runner(config_psq)\n",
    "runner.run()"
   ]
  },
  {
   "cell_type": "code",
   "execution_count": 14,
   "id": "0b0bab9b",
   "metadata": {
    "id": "0b0bab9b",
    "ExecuteTime": {
     "end_time": "2024-03-07T00:38:12.205386Z",
     "start_time": "2024-03-07T00:38:12.058531Z"
    }
   },
   "outputs": [
    {
     "name": "stdout",
     "output_type": "stream",
     "text": [
      "/bin/bash: warning: setlocale: LC_ALL: cannot change locale (en_US.UTF-8)\r\n",
      "queries:\r\n",
      "  output: processed_queries\r\n",
      "  parse: false\r\n",
      "  process:\r\n",
      "    normalize:\r\n",
      "      lowercase: true\r\n",
      "      report: false\r\n",
      "    stem: false\r\n",
      "    stopwords: lucene\r\n",
      "    strict_check: false\r\n",
      "    tokenize: moses\r\n",
      "  psq:\r\n",
      "    lang: eng\r\n",
      "    normalize:\r\n",
      "      lowercase: true\r\n",
      "      report: false\r\n",
      "    path: zho_eng_clean_reduced_pdt.dict\r\n",
      "    stem: false\r\n",
      "    stopwords: lucene\r\n",
      "    threshold: 0.97\r\n",
      "retrieve:\r\n",
      "  b: 0.4\r\n",
      "  fb_docs: 10\r\n",
      "  fb_terms: 10\r\n",
      "  input:\r\n",
      "    index:\r\n",
      "      path: /home/shengyi/764/CLIR/runs/query-translation/index\r\n",
      "  k1: 0.9\r\n",
      "  log_explanations: false\r\n",
      "  log_explanations_cutoff: 10\r\n",
      "  mu: 1000\r\n",
      "  name: bm25\r\n",
      "  number: 1000\r\n",
      "  original_query_weight: 0.5\r\n",
      "  output: retrieve\r\n",
      "  parse: false\r\n",
      "  psq: true\r\n",
      "  rm3: false\r\n",
      "  rm3_logging: false\r\n",
      "run:\r\n",
      "  name: PSQ\r\n",
      "  path: runs/PSQ\r\n",
      "  results: results.txt\r\n",
      "  stage1:\r\n",
      "    mode: streaming\r\n",
      "    num_jobs: 1\r\n",
      "    progress_interval: 10000\r\n",
      "  stage2:\r\n",
      "    mode: streaming\r\n",
      "    num_jobs: 1\r\n",
      "    progress_interval: 10\r\n",
      "score:\r\n",
      "  input:\r\n",
      "    format: trec\r\n",
      "    path: /home/shengyi/764/CLIR/zho.toy-dev.qrels.v1-0.txt\r\n",
      "  metrics:\r\n",
      "  - ndcg_prime\r\n",
      "  - ndcg\r\n",
      "  - map\r\n",
      "  - recall_100\r\n",
      "  - recall_1000\r\n",
      "topics:\r\n",
      "  fields: title\r\n",
      "  input:\r\n",
      "    encoding: utf8\r\n",
      "    format: json\r\n",
      "    lang: eng\r\n",
      "    path: /home/shengyi/764/CLIR/dev.topics.v1-0.jsonl\r\n",
      "    prefix: false\r\n",
      "    qrels_lang: zho\r\n",
      "    source: original\r\n",
      "    strip_non_digits: false\r\n",
      "  output: false\r\n"
     ]
    }
   ],
   "source": [
    "!cat runs/PSQ/config.yml"
   ]
  },
  {
   "cell_type": "code",
   "execution_count": 15,
   "id": "085c37f7",
   "metadata": {
    "id": "085c37f7",
    "ExecuteTime": {
     "end_time": "2024-03-07T00:38:13.406310Z",
     "start_time": "2024-03-07T00:38:13.258558Z"
    }
   },
   "outputs": [
    {
     "name": "stdout",
     "output_type": "stream",
     "text": [
      "/bin/bash: warning: setlocale: LC_ALL: cannot change locale (en_US.UTF-8)\r\n",
      "map                      \t5\t0.8088\r\n",
      "ndcg                     \t5\t0.9255\r\n",
      "ndcg_prime               \t5\t0.9295\r\n",
      "recall_100               \t5\t1.0000\r\n",
      "recall_1000              \t5\t1.0000\r\n",
      "map                      \t6\t0.7398\r\n",
      "ndcg                     \t6\t0.7647\r\n",
      "ndcg_prime               \t6\t0.7766\r\n",
      "recall_100               \t6\t1.0000\r\n",
      "recall_1000              \t6\t1.0000\r\n",
      "map                      \tall\t0.7743\r\n",
      "ndcg                     \tall\t0.8451\r\n",
      "ndcg_prime               \tall\t0.8530\r\n",
      "recall_100               \tall\t1.0000\r\n",
      "recall_1000              \tall\t1.0000\r\n"
     ]
    }
   ],
   "source": [
    "!cat runs/PSQ/scores.txt"
   ]
  },
  {
   "cell_type": "markdown",
   "id": "2c0d5dda",
   "metadata": {
    "id": "2c0d5dda"
   },
   "source": [
    "## Running a T5 Reranker from pyTerrier"
   ]
  },
  {
   "cell_type": "markdown",
   "id": "9ada03ce",
   "metadata": {
    "id": "9ada03ce"
   },
   "source": [
    "We can also rerank the results from the initial retrieval model.\n",
    "You can define your own reranker with your favorite reranking framework.\n",
    "Here, we use T5 supported by pyTerrier as an example."
   ]
  },
  {
   "cell_type": "code",
   "execution_count": null,
   "id": "7719d50b",
   "metadata": {
    "id": "7719d50b"
   },
   "outputs": [],
   "source": [
    "# install T5\n",
    "!pip install --upgrade git+https://github.com/terrierteam/pyterrier_t5"
   ]
  },
  {
   "cell_type": "markdown",
   "id": "6216c088",
   "metadata": {
    "id": "6216c088"
   },
   "source": [
    "We define our custom reranker by implementing the abstract class `patapsco.Reranker`.  "
   ]
  },
  {
   "cell_type": "code",
   "execution_count": null,
   "id": "e0298189",
   "metadata": {
    "id": "e0298189"
   },
   "outputs": [],
   "source": [
    "from pyterrier_t5 import MonoT5ReRanker\n",
    "pt_t5reranker = MonoT5ReRanker(text_field='text')\n",
    "\n",
    "class T5Reranker(patapsco.Reranker):\n",
    "    LOGGER = patapsco.get_logger(\"reranker\")\n",
    "\n",
    "    def process(self, results):\n",
    "        df = pd.DataFrame(results.results)\n",
    "        res = df.assign(text=df.doc_id.apply(lambda k: self.db[k].text), query=results.query, qid=1)\\\n",
    "                .rename(columns={'doc_id': 'docno'})\\\n",
    "                .pipe(pt_t5reranker).sort_values('score', ascending=False)\\\n",
    "                .apply(lambda x: patapsco.results.Result(doc_id=x.docno, rank=x['rank'], score=x.score), axis=1).tolist()\n",
    "\n",
    "        return patapsco.Results(results.query, results.doc_lang, 'T5Rerank', res)"
   ]
  },
  {
   "cell_type": "markdown",
   "id": "4d10bdb8",
   "metadata": {
    "id": "4d10bdb8"
   },
   "source": [
    "Register it with patapsco."
   ]
  },
  {
   "cell_type": "code",
   "execution_count": null,
   "id": "ba6a5da9",
   "metadata": {
    "id": "ba6a5da9"
   },
   "outputs": [],
   "source": [
    "patapsco.RerankFactory.register('t5', T5Reranker)"
   ]
  },
  {
   "cell_type": "code",
   "execution_count": null,
   "id": "f62c93cb",
   "metadata": {
    "scrolled": false,
    "id": "f62c93cb",
    "outputId": "fceea8f5-3fa4-467f-f676-7d7dfe8bdbc2",
    "colab": {
     "referenced_widgets": [
      "68193b27d7104640af56dff7ed226440",
      "3c6adea6b27545f19b5beb4b17611715"
     ]
    }
   },
   "outputs": [
    {
     "name": "stderr",
     "output_type": "stream",
     "text": [
      "2021-10-20 23:25:43,407 - patapsco.run - INFO - Patapsco version 1.0.0-dev\n",
      "2021-10-20 23:25:43,409 - patapsco.run - INFO - Writing output to: /Users/eyang/Documents/Repositories/patapsco/samples/notebooks/runs/T5-Reranking\n",
      "2021-10-20 23:25:43,425 - patapsco.retrieve - INFO - Index location: /Users/eyang/Documents/Repositories/patapsco/samples/notebooks/runs/query-translation/index\n",
      "2021-10-20 23:25:43,432 - patapsco.job - INFO - Stage 2 is a streaming pipeline.\n",
      "2021-10-20 23:25:43,433 - patapsco.job - INFO - Stage 2 pipeline: Hc4JsonTopicReader | TopicProcessor | QueryProcessor | QueryWriter | PyseriniRetriever | JsonResultsWriter | T5Reranker | JsonResultsWriter | TrecResultsWriter\n",
      "2021-10-20 23:25:43,438 - patapsco.job - INFO - Starting run: T5 Reranking\n",
      "2021-10-20 23:25:43,439 - patapsco.job - INFO - Stage 2: Starting processing of topics\n",
      "2021-10-20 23:25:43,445 - patapsco.retrieve - INFO - Using BM25 with parameters k1=0.9 and b=0.4\n"
     ]
    },
    {
     "data": {
      "application/vnd.jupyter.widget-view+json": {
       "model_id": "68193b27d7104640af56dff7ed226440",
       "version_major": 2,
       "version_minor": 0
      },
      "text/plain": [
       "monoT5:   0%|          | 0/25 [00:00<?, ?batches/s]"
      ]
     },
     "metadata": {},
     "output_type": "display_data"
    },
    {
     "name": "stderr",
     "output_type": "stream",
     "text": [
      "Token indices sequence length is longer than the specified maximum sequence length for this model (731 > 512). Running this sequence through the model will result in indexing errors\n"
     ]
    },
    {
     "data": {
      "application/vnd.jupyter.widget-view+json": {
       "model_id": "3c6adea6b27545f19b5beb4b17611715",
       "version_major": 2,
       "version_minor": 0
      },
      "text/plain": [
       "monoT5:   0%|          | 0/25 [00:00<?, ?batches/s]"
      ]
     },
     "metadata": {},
     "output_type": "display_data"
    },
    {
     "name": "stderr",
     "output_type": "stream",
     "text": [
      "2021-10-20 23:29:56,386 - patapsco.job - INFO - Stage 2: Processed 2 topics\n",
      "2021-10-20 23:29:56,387 - patapsco.job - INFO - Stage 2 took 252.9 secs\n",
      "2021-10-20 23:29:56,411 - patapsco.score - INFO - Average scores over 2 queries: map: 0.051, ndcg: 0.214, ndcg_prime: 0.532, recall_100: 0.625, recall_1000: 0.625\n",
      "2021-10-20 23:29:56,413 - patapsco.job - INFO - Memory usage: 1.5 GB\n",
      "2021-10-20 23:29:56,413 - patapsco.job - INFO - Run complete\n"
     ]
    }
   ],
   "source": [
    "config_rerank = {\n",
    "    \"run\": {\n",
    "        \"name\": \"T5 Reranking\"\n",
    "    },\n",
    "\n",
    "    \"topics\": {\n",
    "        \"input\": {\n",
    "            \"format\": \"json\",\n",
    "            \"lang\": \"zho\",\n",
    "            \"source\": \"20211005-scale21-sockeye2-tm1\", # machine query translation\n",
    "            \"encoding\": \"utf8\",\n",
    "            \"path\": \"dev.topics.v1-0.jsonl\"\n",
    "        },\n",
    "        \"fields\": \"title\"\n",
    "    },\n",
    "\n",
    "    \"queries\": {\n",
    "        \"process\": {\n",
    "            \"normalize\": {\n",
    "                \"lowercase\": True,\n",
    "            },\n",
    "            \"tokenize\": \"jieba\",\n",
    "            \"stopwords\": \"lucene\"\n",
    "        }\n",
    "    },\n",
    "\n",
    "    \"retrieve\": {\n",
    "        \"input\": {\n",
    "            \"index\": {\n",
    "                \"path\": \"runs/query-translation/index\"\n",
    "            }\n",
    "        },\n",
    "        \"name\": \"bm25\",\n",
    "        \"number\": 100\n",
    "    },\n",
    "\n",
    "    # Define the reranker here, the name needs to match the one registered with patapsco.\n",
    "    \"rerank\": {\n",
    "        \"input\": {\n",
    "            \"database\": {\n",
    "                \"path\": \"runs/query-translation/database\"\n",
    "            }\n",
    "        },\n",
    "        \"name\": \"t5\",\n",
    "        \"output\": \"rerank\"\n",
    "    },\n",
    "\n",
    "    # Evaluting the run\n",
    "    \"score\": {\n",
    "        \"input\": {\n",
    "            \"path\": \"zho.toy-dev.qrels.v1-0.txt\"\n",
    "        }\n",
    "    }\n",
    "}\n",
    "\n",
    "runner = patapsco.Runner(config_rerank)\n",
    "runner.run()"
   ]
  },
  {
   "cell_type": "code",
   "execution_count": null,
   "id": "9512daa4",
   "metadata": {
    "id": "9512daa4",
    "outputId": "1344928e-e841-4c8e-d94a-e625d32521ce"
   },
   "outputs": [
    {
     "name": "stdout",
     "output_type": "stream",
     "text": [
      "config.yml        \u001B[1m\u001B[34mprocessed_queries\u001B[m\u001B[m \u001B[1m\u001B[34mretrieve\u001B[m\u001B[m\r\n",
      "config_full.yml   \u001B[1m\u001B[34mrerank\u001B[m\u001B[m            scores.txt\r\n",
      "patapsco.log      results.txt       timing.json\r\n"
     ]
    }
   ],
   "source": [
    "!ls runs/T5-Reranking/"
   ]
  },
  {
   "cell_type": "code",
   "execution_count": null,
   "id": "a84ff142",
   "metadata": {
    "id": "a84ff142"
   },
   "outputs": [],
   "source": [
    "\n"
   ]
  }
 ],
 "metadata": {
  "kernelspec": {
   "display_name": "Python 3 (ipykernel)",
   "language": "python",
   "name": "python3"
  },
  "language_info": {
   "codemirror_mode": {
    "name": "ipython",
    "version": 3
   },
   "file_extension": ".py",
   "mimetype": "text/x-python",
   "name": "python",
   "nbconvert_exporter": "python",
   "pygments_lexer": "ipython3",
   "version": "3.9.7"
  },
  "colab": {
   "provenance": [],
   "include_colab_link": true
  }
 },
 "nbformat": 4,
 "nbformat_minor": 5
}
